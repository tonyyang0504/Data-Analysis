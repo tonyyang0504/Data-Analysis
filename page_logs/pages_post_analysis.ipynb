{
 "cells": [
  {
   "cell_type": "code",
   "execution_count": 58,
   "metadata": {},
   "outputs": [],
   "source": [
    "import pandas as pd\n",
    "import os"
   ]
  },
  {
   "cell_type": "markdown",
   "metadata": {},
   "source": [
    "#### 此次主要分析主页发帖任务中，出现错误发帖占总发帖的比例以及不同错误的分布情况，并以表格和图的形式展现结果，首先载入并处理数据。"
   ]
  },
  {
   "cell_type": "code",
   "execution_count": 98,
   "metadata": {},
   "outputs": [],
   "source": [
    "files = [x for x in os.listdir('.') if x.endswith('.csv')]\n",
    "\n",
    "error_rate_dict = {}\n",
    "error_distribution_to_total_dict = {}\n",
    "error_distribution_dict = {}\n",
    "total_count_dict = {}\n",
    "error_count_dict = {}\n",
    "\n",
    "for file in files:\n",
    "    name = file.split('.csv')[0]\n",
    "    df = pd.read_csv(file)\n",
    "    publishing_error = df[df['Status'].str.contains('Error publishing a Post')]\n",
    "    publishing_total = df[df['Status'].str.contains('\\*FINALIZED\\* a post')]\n",
    "    \n",
    "    total_count = publishing_total.Status.count()\n",
    "    error_count = publishing_error.Status.count()\n",
    "    error_rate = round(error_count / total_count, 2)\n",
    "    \n",
    "    publishing_error = publishing_error.copy()\n",
    "    publishing_error['Code'] = publishing_error['Status'].apply(lambda x: x.split(',')[0].split(':')[1].split('-')[0].strip())\n",
    "    \n",
    "    code_count = publishing_error.groupby(['Code'])['Status'].count()\n",
    "    \n",
    "    error_rate_dict[name] = error_rate\n",
    "    total_count_dict[name] = total_count\n",
    "    error_count_dict[name] = error_count\n",
    "    error_distribution_dict[name] = code_count / publishing_error['Code'].count()\n",
    "    error_distribution_to_total_dict[name] = code_count / publishing_total['Status'].count()"
   ]
  },
  {
   "cell_type": "code",
   "execution_count": 99,
   "metadata": {},
   "outputs": [
    {
     "data": {
      "text/plain": [
       "['151.106.35.202 U43_page_post_logs_tony.csv',\n",
       " '151.106.35.221 U43_pages_post_logs_tony.csv',\n",
       " '151_106_42_145GEN_R49_pages_post_logs_aidan.csv',\n",
       " '18U45-10 page_post_logs_aaron.csv',\n",
       " 'b8 151.106.41.12  page_post_logs_cary.csv']"
      ]
     },
     "execution_count": 99,
     "metadata": {},
     "output_type": "execute_result"
    }
   ],
   "source": [
    "files"
   ]
  },
  {
   "cell_type": "code",
   "execution_count": 100,
   "metadata": {},
   "outputs": [],
   "source": [
    "group_joiner_dict = {}\n",
    "\n",
    "for file in files:\n",
    "    name = file.split('.csv')[0]\n",
    "    df = pd.read_csv(file)\n",
    "    \n",
    "    filter_finished = df[df['Status'].str.contains('Group Joiner') & df['Status'].str.contains('Finished operation')]\n",
    "    filter_error = df[df['Status'].str.contains('Group Joiner') & df['Status'].str.contains('Error')]\n",
    "    \n",
    "    df_finished_count = df_finished.groupby('Account')['Status'].count()\n",
    "    df_error_count = df_error.groupby('Account')['Status'].count()\n",
    "    \n",
    "    df_total_count = pd.concat([df_finished_count, df_error_count], axis=1).fillna(0)\n",
    "    df_total_count.columns = ['Finished Amount', 'Error Amount']\n",
    "    df_total_count['Total Amount'] = df_total_count.sum(1)\n",
    "    df_total_count['Success Rate'] = df_total_count['Finished Amount'] / df_total_count['Total Amount']\n",
    "    \n",
    "    group_joiner_dict[name] = df_total_count"
   ]
  },
  {
   "cell_type": "code",
   "execution_count": 101,
   "metadata": {},
   "outputs": [
    {
     "data": {
      "text/plain": [
       "{'151.106.35.202 U43_page_post_logs_tony':                      Finished Amount  Error Amount  Total Amount  Success Rate\n",
       " Oliver_Malaysia_421            100.0           0.0         100.0      1.000000\n",
       " Oliver_Malaysia_422            134.0           2.0         136.0      0.985294\n",
       " Oliver_Malaysia_423            147.0           0.0         147.0      1.000000\n",
       " Oliver_Malaysia_424            147.0           1.0         148.0      0.993243\n",
       " Oliver_Malaysia_425            140.0           0.0         140.0      1.000000\n",
       " ...                              ...           ...           ...           ...\n",
       " Oliver_Malaysia_487            100.0           0.0         100.0      1.000000\n",
       " Oliver_Malaysia_488            100.0           0.0         100.0      1.000000\n",
       " Oliver_Malaysia_489            100.0           0.0         100.0      1.000000\n",
       " Oliver_Malaysia_490             78.0         428.0         506.0      0.154150\n",
       " Oliver_Malaysia_470              0.0         569.0         569.0      0.000000\n",
       " \n",
       " [70 rows x 4 columns],\n",
       " '151.106.35.221 U43_pages_post_logs_tony':                      Finished Amount  Error Amount  Total Amount  Success Rate\n",
       " Oliver_Malaysia_421            100.0           0.0         100.0      1.000000\n",
       " Oliver_Malaysia_422            134.0           2.0         136.0      0.985294\n",
       " Oliver_Malaysia_423            147.0           0.0         147.0      1.000000\n",
       " Oliver_Malaysia_424            147.0           1.0         148.0      0.993243\n",
       " Oliver_Malaysia_425            140.0           0.0         140.0      1.000000\n",
       " ...                              ...           ...           ...           ...\n",
       " Oliver_Malaysia_487            100.0           0.0         100.0      1.000000\n",
       " Oliver_Malaysia_488            100.0           0.0         100.0      1.000000\n",
       " Oliver_Malaysia_489            100.0           0.0         100.0      1.000000\n",
       " Oliver_Malaysia_490             78.0         428.0         506.0      0.154150\n",
       " Oliver_Malaysia_470              0.0         569.0         569.0      0.000000\n",
       " \n",
       " [70 rows x 4 columns],\n",
       " '151_106_42_145GEN_R49_pages_post_logs_aidan':                      Finished Amount  Error Amount  Total Amount  Success Rate\n",
       " Oliver_Malaysia_421            100.0           0.0         100.0      1.000000\n",
       " Oliver_Malaysia_422            134.0           2.0         136.0      0.985294\n",
       " Oliver_Malaysia_423            147.0           0.0         147.0      1.000000\n",
       " Oliver_Malaysia_424            147.0           1.0         148.0      0.993243\n",
       " Oliver_Malaysia_425            140.0           0.0         140.0      1.000000\n",
       " ...                              ...           ...           ...           ...\n",
       " Oliver_Malaysia_487            100.0           0.0         100.0      1.000000\n",
       " Oliver_Malaysia_488            100.0           0.0         100.0      1.000000\n",
       " Oliver_Malaysia_489            100.0           0.0         100.0      1.000000\n",
       " Oliver_Malaysia_490             78.0         428.0         506.0      0.154150\n",
       " Oliver_Malaysia_470              0.0         569.0         569.0      0.000000\n",
       " \n",
       " [70 rows x 4 columns],\n",
       " '18U45-10 page_post_logs_aaron':                      Finished Amount  Error Amount  Total Amount  Success Rate\n",
       " Oliver_Malaysia_421            100.0           0.0         100.0      1.000000\n",
       " Oliver_Malaysia_422            134.0           2.0         136.0      0.985294\n",
       " Oliver_Malaysia_423            147.0           0.0         147.0      1.000000\n",
       " Oliver_Malaysia_424            147.0           1.0         148.0      0.993243\n",
       " Oliver_Malaysia_425            140.0           0.0         140.0      1.000000\n",
       " ...                              ...           ...           ...           ...\n",
       " Oliver_Malaysia_487            100.0           0.0         100.0      1.000000\n",
       " Oliver_Malaysia_488            100.0           0.0         100.0      1.000000\n",
       " Oliver_Malaysia_489            100.0           0.0         100.0      1.000000\n",
       " Oliver_Malaysia_490             78.0         428.0         506.0      0.154150\n",
       " Oliver_Malaysia_470              0.0         569.0         569.0      0.000000\n",
       " \n",
       " [70 rows x 4 columns],\n",
       " 'b8 151.106.41.12  page_post_logs_cary':                      Finished Amount  Error Amount  Total Amount  Success Rate\n",
       " Oliver_Malaysia_421            100.0           0.0         100.0      1.000000\n",
       " Oliver_Malaysia_422            134.0           2.0         136.0      0.985294\n",
       " Oliver_Malaysia_423            147.0           0.0         147.0      1.000000\n",
       " Oliver_Malaysia_424            147.0           1.0         148.0      0.993243\n",
       " Oliver_Malaysia_425            140.0           0.0         140.0      1.000000\n",
       " ...                              ...           ...           ...           ...\n",
       " Oliver_Malaysia_487            100.0           0.0         100.0      1.000000\n",
       " Oliver_Malaysia_488            100.0           0.0         100.0      1.000000\n",
       " Oliver_Malaysia_489            100.0           0.0         100.0      1.000000\n",
       " Oliver_Malaysia_490             78.0         428.0         506.0      0.154150\n",
       " Oliver_Malaysia_470              0.0         569.0         569.0      0.000000\n",
       " \n",
       " [70 rows x 4 columns]}"
      ]
     },
     "execution_count": 101,
     "metadata": {},
     "output_type": "execute_result"
    }
   ],
   "source": [
    "group_joiner_dict"
   ]
  },
  {
   "cell_type": "code",
   "execution_count": 102,
   "metadata": {},
   "outputs": [],
   "source": [
    "data_list = [key for key in group_joiner_dict.keys()]"
   ]
  },
  {
   "cell_type": "code",
   "execution_count": 103,
   "metadata": {},
   "outputs": [
    {
     "ename": "SyntaxError",
     "evalue": "invalid syntax (<ipython-input-103-eaf083cb72bb>, line 1)",
     "output_type": "error",
     "traceback": [
      "\u001b[1;36m  File \u001b[1;32m\"<ipython-input-103-eaf083cb72bb>\"\u001b[1;36m, line \u001b[1;32m1\u001b[0m\n\u001b[1;33m    for\u001b[0m\n\u001b[1;37m        ^\u001b[0m\n\u001b[1;31mSyntaxError\u001b[0m\u001b[1;31m:\u001b[0m invalid syntax\n"
     ]
    }
   ],
   "source": [
    "for "
   ]
  },
  {
   "cell_type": "code",
   "execution_count": 104,
   "metadata": {},
   "outputs": [
    {
     "ename": "TypeError",
     "evalue": "cannot concatenate object of type '<class 'str'>'; only Series and DataFrame objs are valid",
     "output_type": "error",
     "traceback": [
      "\u001b[1;31m---------------------------------------------------------------------------\u001b[0m",
      "\u001b[1;31mTypeError\u001b[0m                                 Traceback (most recent call last)",
      "\u001b[1;32m<ipython-input-104-5927ebfb3ba2>\u001b[0m in \u001b[0;36m<module>\u001b[1;34m\u001b[0m\n\u001b[1;32m----> 1\u001b[1;33m \u001b[0mgroup_joiner_data\u001b[0m \u001b[1;33m=\u001b[0m \u001b[0mpd\u001b[0m\u001b[1;33m.\u001b[0m\u001b[0mconcat\u001b[0m\u001b[1;33m(\u001b[0m\u001b[0mdata_list\u001b[0m\u001b[1;33m)\u001b[0m\u001b[1;33m\u001b[0m\u001b[1;33m\u001b[0m\u001b[0m\n\u001b[0m",
      "\u001b[1;32m~\\anaconda3\\lib\\site-packages\\pandas\\core\\reshape\\concat.py\u001b[0m in \u001b[0;36mconcat\u001b[1;34m(objs, axis, join, ignore_index, keys, levels, names, verify_integrity, sort, copy)\u001b[0m\n\u001b[0;32m    272\u001b[0m     \u001b[0mValueError\u001b[0m\u001b[1;33m:\u001b[0m \u001b[0mIndexes\u001b[0m \u001b[0mhave\u001b[0m \u001b[0moverlapping\u001b[0m \u001b[0mvalues\u001b[0m\u001b[1;33m:\u001b[0m \u001b[1;33m[\u001b[0m\u001b[1;34m'a'\u001b[0m\u001b[1;33m]\u001b[0m\u001b[1;33m\u001b[0m\u001b[1;33m\u001b[0m\u001b[0m\n\u001b[0;32m    273\u001b[0m     \"\"\"\n\u001b[1;32m--> 274\u001b[1;33m     op = _Concatenator(\n\u001b[0m\u001b[0;32m    275\u001b[0m         \u001b[0mobjs\u001b[0m\u001b[1;33m,\u001b[0m\u001b[1;33m\u001b[0m\u001b[1;33m\u001b[0m\u001b[0m\n\u001b[0;32m    276\u001b[0m         \u001b[0maxis\u001b[0m\u001b[1;33m=\u001b[0m\u001b[0maxis\u001b[0m\u001b[1;33m,\u001b[0m\u001b[1;33m\u001b[0m\u001b[1;33m\u001b[0m\u001b[0m\n",
      "\u001b[1;32m~\\anaconda3\\lib\\site-packages\\pandas\\core\\reshape\\concat.py\u001b[0m in \u001b[0;36m__init__\u001b[1;34m(self, objs, axis, join, keys, levels, names, ignore_index, verify_integrity, copy, sort)\u001b[0m\n\u001b[0;32m    357\u001b[0m                     \u001b[1;34m\"only Series and DataFrame objs are valid\"\u001b[0m\u001b[1;33m\u001b[0m\u001b[1;33m\u001b[0m\u001b[0m\n\u001b[0;32m    358\u001b[0m                 )\n\u001b[1;32m--> 359\u001b[1;33m                 \u001b[1;32mraise\u001b[0m \u001b[0mTypeError\u001b[0m\u001b[1;33m(\u001b[0m\u001b[0mmsg\u001b[0m\u001b[1;33m)\u001b[0m\u001b[1;33m\u001b[0m\u001b[1;33m\u001b[0m\u001b[0m\n\u001b[0m\u001b[0;32m    360\u001b[0m \u001b[1;33m\u001b[0m\u001b[0m\n\u001b[0;32m    361\u001b[0m             \u001b[1;31m# consolidate\u001b[0m\u001b[1;33m\u001b[0m\u001b[1;33m\u001b[0m\u001b[1;33m\u001b[0m\u001b[0m\n",
      "\u001b[1;31mTypeError\u001b[0m: cannot concatenate object of type '<class 'str'>'; only Series and DataFrame objs are valid"
     ]
    }
   ],
   "source": [
    "group_joiner_data = pd.concat(data_list)"
   ]
  },
  {
   "cell_type": "code",
   "execution_count": 105,
   "metadata": {},
   "outputs": [
    {
     "data": {
      "text/html": [
       "<div>\n",
       "<style scoped>\n",
       "    .dataframe tbody tr th:only-of-type {\n",
       "        vertical-align: middle;\n",
       "    }\n",
       "\n",
       "    .dataframe tbody tr th {\n",
       "        vertical-align: top;\n",
       "    }\n",
       "\n",
       "    .dataframe thead th {\n",
       "        text-align: right;\n",
       "    }\n",
       "</style>\n",
       "<table border=\"1\" class=\"dataframe\">\n",
       "  <thead>\n",
       "    <tr style=\"text-align: right;\">\n",
       "      <th></th>\n",
       "      <th>Finished Amount</th>\n",
       "      <th>Error Amount</th>\n",
       "      <th>Total Amount</th>\n",
       "      <th>Success Rate</th>\n",
       "    </tr>\n",
       "  </thead>\n",
       "  <tbody>\n",
       "    <tr>\n",
       "      <th>Gen_Malaysia1</th>\n",
       "      <td>3.0</td>\n",
       "      <td>26.0</td>\n",
       "      <td>29.0</td>\n",
       "      <td>0.103448</td>\n",
       "    </tr>\n",
       "    <tr>\n",
       "      <th>Gen_Malaysia11</th>\n",
       "      <td>3.0</td>\n",
       "      <td>24.0</td>\n",
       "      <td>27.0</td>\n",
       "      <td>0.111111</td>\n",
       "    </tr>\n",
       "    <tr>\n",
       "      <th>Gen_Malaysia12</th>\n",
       "      <td>29.0</td>\n",
       "      <td>0.0</td>\n",
       "      <td>29.0</td>\n",
       "      <td>1.000000</td>\n",
       "    </tr>\n",
       "    <tr>\n",
       "      <th>Gen_Malaysia13</th>\n",
       "      <td>29.0</td>\n",
       "      <td>0.0</td>\n",
       "      <td>29.0</td>\n",
       "      <td>1.000000</td>\n",
       "    </tr>\n",
       "    <tr>\n",
       "      <th>Gen_Malaysia14</th>\n",
       "      <td>3.0</td>\n",
       "      <td>19.0</td>\n",
       "      <td>22.0</td>\n",
       "      <td>0.136364</td>\n",
       "    </tr>\n",
       "    <tr>\n",
       "      <th>...</th>\n",
       "      <td>...</td>\n",
       "      <td>...</td>\n",
       "      <td>...</td>\n",
       "      <td>...</td>\n",
       "    </tr>\n",
       "    <tr>\n",
       "      <th>Oliver_Malaysia_487</th>\n",
       "      <td>100.0</td>\n",
       "      <td>0.0</td>\n",
       "      <td>100.0</td>\n",
       "      <td>1.000000</td>\n",
       "    </tr>\n",
       "    <tr>\n",
       "      <th>Oliver_Malaysia_488</th>\n",
       "      <td>100.0</td>\n",
       "      <td>0.0</td>\n",
       "      <td>100.0</td>\n",
       "      <td>1.000000</td>\n",
       "    </tr>\n",
       "    <tr>\n",
       "      <th>Oliver_Malaysia_489</th>\n",
       "      <td>100.0</td>\n",
       "      <td>0.0</td>\n",
       "      <td>100.0</td>\n",
       "      <td>1.000000</td>\n",
       "    </tr>\n",
       "    <tr>\n",
       "      <th>Oliver_Malaysia_490</th>\n",
       "      <td>78.0</td>\n",
       "      <td>428.0</td>\n",
       "      <td>506.0</td>\n",
       "      <td>0.154150</td>\n",
       "    </tr>\n",
       "    <tr>\n",
       "      <th>Oliver_Malaysia_470</th>\n",
       "      <td>0.0</td>\n",
       "      <td>569.0</td>\n",
       "      <td>569.0</td>\n",
       "      <td>0.000000</td>\n",
       "    </tr>\n",
       "  </tbody>\n",
       "</table>\n",
       "<p>294 rows × 4 columns</p>\n",
       "</div>"
      ],
      "text/plain": [
       "                     Finished Amount  Error Amount  Total Amount  Success Rate\n",
       "Gen_Malaysia1                    3.0          26.0          29.0      0.103448\n",
       "Gen_Malaysia11                   3.0          24.0          27.0      0.111111\n",
       "Gen_Malaysia12                  29.0           0.0          29.0      1.000000\n",
       "Gen_Malaysia13                  29.0           0.0          29.0      1.000000\n",
       "Gen_Malaysia14                   3.0          19.0          22.0      0.136364\n",
       "...                              ...           ...           ...           ...\n",
       "Oliver_Malaysia_487            100.0           0.0         100.0      1.000000\n",
       "Oliver_Malaysia_488            100.0           0.0         100.0      1.000000\n",
       "Oliver_Malaysia_489            100.0           0.0         100.0      1.000000\n",
       "Oliver_Malaysia_490             78.0         428.0         506.0      0.154150\n",
       "Oliver_Malaysia_470              0.0         569.0         569.0      0.000000\n",
       "\n",
       "[294 rows x 4 columns]"
      ]
     },
     "execution_count": 105,
     "metadata": {},
     "output_type": "execute_result"
    }
   ],
   "source": [
    "group_joiner_data"
   ]
  },
  {
   "cell_type": "code",
   "execution_count": 106,
   "metadata": {},
   "outputs": [
    {
     "data": {
      "text/html": [
       "<div>\n",
       "<style scoped>\n",
       "    .dataframe tbody tr th:only-of-type {\n",
       "        vertical-align: middle;\n",
       "    }\n",
       "\n",
       "    .dataframe tbody tr th {\n",
       "        vertical-align: top;\n",
       "    }\n",
       "\n",
       "    .dataframe thead th {\n",
       "        text-align: right;\n",
       "    }\n",
       "</style>\n",
       "<table border=\"1\" class=\"dataframe\">\n",
       "  <thead>\n",
       "    <tr style=\"text-align: right;\">\n",
       "      <th></th>\n",
       "      <th>Finished Amount</th>\n",
       "      <th>Error Amount</th>\n",
       "      <th>Total Amount</th>\n",
       "      <th>Success Rate</th>\n",
       "    </tr>\n",
       "  </thead>\n",
       "  <tbody>\n",
       "    <tr>\n",
       "      <th>count</th>\n",
       "      <td>294.000000</td>\n",
       "      <td>294.000000</td>\n",
       "      <td>294.000000</td>\n",
       "      <td>294.000000</td>\n",
       "    </tr>\n",
       "    <tr>\n",
       "      <th>mean</th>\n",
       "      <td>47.159864</td>\n",
       "      <td>32.517007</td>\n",
       "      <td>79.676871</td>\n",
       "      <td>0.764662</td>\n",
       "    </tr>\n",
       "    <tr>\n",
       "      <th>std</th>\n",
       "      <td>44.874778</td>\n",
       "      <td>97.964426</td>\n",
       "      <td>115.739620</td>\n",
       "      <td>0.367005</td>\n",
       "    </tr>\n",
       "    <tr>\n",
       "      <th>min</th>\n",
       "      <td>0.000000</td>\n",
       "      <td>0.000000</td>\n",
       "      <td>11.000000</td>\n",
       "      <td>0.000000</td>\n",
       "    </tr>\n",
       "    <tr>\n",
       "      <th>25%</th>\n",
       "      <td>28.250000</td>\n",
       "      <td>0.000000</td>\n",
       "      <td>29.000000</td>\n",
       "      <td>0.500000</td>\n",
       "    </tr>\n",
       "    <tr>\n",
       "      <th>50%</th>\n",
       "      <td>29.000000</td>\n",
       "      <td>0.000000</td>\n",
       "      <td>33.000000</td>\n",
       "      <td>1.000000</td>\n",
       "    </tr>\n",
       "    <tr>\n",
       "      <th>75%</th>\n",
       "      <td>43.000000</td>\n",
       "      <td>14.000000</td>\n",
       "      <td>76.750000</td>\n",
       "      <td>1.000000</td>\n",
       "    </tr>\n",
       "    <tr>\n",
       "      <th>max</th>\n",
       "      <td>147.000000</td>\n",
       "      <td>573.000000</td>\n",
       "      <td>604.000000</td>\n",
       "      <td>1.000000</td>\n",
       "    </tr>\n",
       "  </tbody>\n",
       "</table>\n",
       "</div>"
      ],
      "text/plain": [
       "       Finished Amount  Error Amount  Total Amount  Success Rate\n",
       "count       294.000000    294.000000    294.000000    294.000000\n",
       "mean         47.159864     32.517007     79.676871      0.764662\n",
       "std          44.874778     97.964426    115.739620      0.367005\n",
       "min           0.000000      0.000000     11.000000      0.000000\n",
       "25%          28.250000      0.000000     29.000000      0.500000\n",
       "50%          29.000000      0.000000     33.000000      1.000000\n",
       "75%          43.000000     14.000000     76.750000      1.000000\n",
       "max         147.000000    573.000000    604.000000      1.000000"
      ]
     },
     "execution_count": 106,
     "metadata": {},
     "output_type": "execute_result"
    }
   ],
   "source": [
    "group_joiner_data.describe()"
   ]
  },
  {
   "cell_type": "code",
   "execution_count": 107,
   "metadata": {},
   "outputs": [],
   "source": [
    "success_rate_data = pd.DataFrame(group_joiner_data['Success Rate'])"
   ]
  },
  {
   "cell_type": "code",
   "execution_count": 108,
   "metadata": {},
   "outputs": [
    {
     "data": {
      "text/html": [
       "<div>\n",
       "<style scoped>\n",
       "    .dataframe tbody tr th:only-of-type {\n",
       "        vertical-align: middle;\n",
       "    }\n",
       "\n",
       "    .dataframe tbody tr th {\n",
       "        vertical-align: top;\n",
       "    }\n",
       "\n",
       "    .dataframe thead th {\n",
       "        text-align: right;\n",
       "    }\n",
       "</style>\n",
       "<table border=\"1\" class=\"dataframe\">\n",
       "  <thead>\n",
       "    <tr style=\"text-align: right;\">\n",
       "      <th></th>\n",
       "      <th>Success Rate</th>\n",
       "    </tr>\n",
       "  </thead>\n",
       "  <tbody>\n",
       "    <tr>\n",
       "      <th>Gen_Malaysia1</th>\n",
       "      <td>0.103448</td>\n",
       "    </tr>\n",
       "    <tr>\n",
       "      <th>Gen_Malaysia11</th>\n",
       "      <td>0.111111</td>\n",
       "    </tr>\n",
       "    <tr>\n",
       "      <th>Gen_Malaysia12</th>\n",
       "      <td>1.000000</td>\n",
       "    </tr>\n",
       "    <tr>\n",
       "      <th>Gen_Malaysia13</th>\n",
       "      <td>1.000000</td>\n",
       "    </tr>\n",
       "    <tr>\n",
       "      <th>Gen_Malaysia14</th>\n",
       "      <td>0.136364</td>\n",
       "    </tr>\n",
       "    <tr>\n",
       "      <th>...</th>\n",
       "      <td>...</td>\n",
       "    </tr>\n",
       "    <tr>\n",
       "      <th>Oliver_Malaysia_487</th>\n",
       "      <td>1.000000</td>\n",
       "    </tr>\n",
       "    <tr>\n",
       "      <th>Oliver_Malaysia_488</th>\n",
       "      <td>1.000000</td>\n",
       "    </tr>\n",
       "    <tr>\n",
       "      <th>Oliver_Malaysia_489</th>\n",
       "      <td>1.000000</td>\n",
       "    </tr>\n",
       "    <tr>\n",
       "      <th>Oliver_Malaysia_490</th>\n",
       "      <td>0.154150</td>\n",
       "    </tr>\n",
       "    <tr>\n",
       "      <th>Oliver_Malaysia_470</th>\n",
       "      <td>0.000000</td>\n",
       "    </tr>\n",
       "  </tbody>\n",
       "</table>\n",
       "<p>294 rows × 1 columns</p>\n",
       "</div>"
      ],
      "text/plain": [
       "                     Success Rate\n",
       "Gen_Malaysia1            0.103448\n",
       "Gen_Malaysia11           0.111111\n",
       "Gen_Malaysia12           1.000000\n",
       "Gen_Malaysia13           1.000000\n",
       "Gen_Malaysia14           0.136364\n",
       "...                           ...\n",
       "Oliver_Malaysia_487      1.000000\n",
       "Oliver_Malaysia_488      1.000000\n",
       "Oliver_Malaysia_489      1.000000\n",
       "Oliver_Malaysia_490      0.154150\n",
       "Oliver_Malaysia_470      0.000000\n",
       "\n",
       "[294 rows x 1 columns]"
      ]
     },
     "execution_count": 108,
     "metadata": {},
     "output_type": "execute_result"
    }
   ],
   "source": [
    "success_rate_data"
   ]
  },
  {
   "cell_type": "code",
   "execution_count": 109,
   "metadata": {},
   "outputs": [
    {
     "data": {
      "text/plain": [
       "<AxesSubplot:ylabel='Frequency'>"
      ]
     },
     "execution_count": 109,
     "metadata": {},
     "output_type": "execute_result"
    },
    {
     "data": {
      "image/png": "[encoded data removed]",
      "text/plain": [
       "<Figure size 1152x576 with 1 Axes>"
      ]
     },
     "metadata": {
      "needs_background": "light"
     },
     "output_type": "display_data"
    }
   ],
   "source": [
    "success_rate_data.plot(kind='hist', figsize=(16, 8))"
   ]
  },
  {
   "cell_type": "code",
   "execution_count": 110,
   "metadata": {},
   "outputs": [
    {
     "data": {
      "text/plain": [
       "{}"
      ]
     },
     "execution_count": 110,
     "metadata": {},
     "output_type": "execute_result"
    }
   ],
   "source": [
    "group_joiner_error_dict"
   ]
  },
  {
   "cell_type": "markdown",
   "metadata": {},
   "source": [
    "#### 接下来将每个发帖活动的总发帖数量、总错误量、错误率以表格的形式展现，并计算各自的统计数据。"
   ]
  },
  {
   "cell_type": "code",
   "execution_count": 111,
   "metadata": {},
   "outputs": [
    {
     "data": {
      "text/html": [
       "<div>\n",
       "<style scoped>\n",
       "    .dataframe tbody tr th:only-of-type {\n",
       "        vertical-align: middle;\n",
       "    }\n",
       "\n",
       "    .dataframe tbody tr th {\n",
       "        vertical-align: top;\n",
       "    }\n",
       "\n",
       "    .dataframe thead th {\n",
       "        text-align: right;\n",
       "    }\n",
       "</style>\n",
       "<table border=\"1\" class=\"dataframe\">\n",
       "  <thead>\n",
       "    <tr style=\"text-align: right;\">\n",
       "      <th></th>\n",
       "      <th>number of post</th>\n",
       "      <th>number of error</th>\n",
       "      <th>error rate</th>\n",
       "    </tr>\n",
       "  </thead>\n",
       "  <tbody>\n",
       "    <tr>\n",
       "      <th>151.106.35.202 U43_page_post_logs_tony</th>\n",
       "      <td>946.0</td>\n",
       "      <td>504.0</td>\n",
       "      <td>0.53</td>\n",
       "    </tr>\n",
       "    <tr>\n",
       "      <th>151.106.35.221 U43_pages_post_logs_tony</th>\n",
       "      <td>1672.0</td>\n",
       "      <td>791.0</td>\n",
       "      <td>0.47</td>\n",
       "    </tr>\n",
       "    <tr>\n",
       "      <th>151_106_42_145GEN_R49_pages_post_logs_aidan</th>\n",
       "      <td>1528.0</td>\n",
       "      <td>886.0</td>\n",
       "      <td>0.58</td>\n",
       "    </tr>\n",
       "    <tr>\n",
       "      <th>18U45-10 page_post_logs_aaron</th>\n",
       "      <td>252.0</td>\n",
       "      <td>130.0</td>\n",
       "      <td>0.52</td>\n",
       "    </tr>\n",
       "    <tr>\n",
       "      <th>b8 151.106.41.12  page_post_logs_cary</th>\n",
       "      <td>647.0</td>\n",
       "      <td>377.0</td>\n",
       "      <td>0.58</td>\n",
       "    </tr>\n",
       "  </tbody>\n",
       "</table>\n",
       "</div>"
      ],
      "text/plain": [
       "                                             number of post  number of error  \\\n",
       "151.106.35.202 U43_page_post_logs_tony                946.0            504.0   \n",
       "151.106.35.221 U43_pages_post_logs_tony              1672.0            791.0   \n",
       "151_106_42_145GEN_R49_pages_post_logs_aidan          1528.0            886.0   \n",
       "18U45-10 page_post_logs_aaron                         252.0            130.0   \n",
       "b8 151.106.41.12  page_post_logs_cary                 647.0            377.0   \n",
       "\n",
       "                                             error rate  \n",
       "151.106.35.202 U43_page_post_logs_tony             0.53  \n",
       "151.106.35.221 U43_pages_post_logs_tony            0.47  \n",
       "151_106_42_145GEN_R49_pages_post_logs_aidan        0.58  \n",
       "18U45-10 page_post_logs_aaron                      0.52  \n",
       "b8 151.106.41.12  page_post_logs_cary              0.58  "
      ]
     },
     "execution_count": 111,
     "metadata": {},
     "output_type": "execute_result"
    }
   ],
   "source": [
    "count_data = pd.DataFrame([total_count_dict, error_count_dict, error_rate_dict],\n",
    "                                index=['number of post', 'number of error', 'error rate']).T\n",
    "count_data"
   ]
  },
  {
   "cell_type": "code",
   "execution_count": 112,
   "metadata": {},
   "outputs": [
    {
     "data": {
      "text/html": [
       "<div>\n",
       "<style scoped>\n",
       "    .dataframe tbody tr th:only-of-type {\n",
       "        vertical-align: middle;\n",
       "    }\n",
       "\n",
       "    .dataframe tbody tr th {\n",
       "        vertical-align: top;\n",
       "    }\n",
       "\n",
       "    .dataframe thead th {\n",
       "        text-align: right;\n",
       "    }\n",
       "</style>\n",
       "<table border=\"1\" class=\"dataframe\">\n",
       "  <thead>\n",
       "    <tr style=\"text-align: right;\">\n",
       "      <th></th>\n",
       "      <th>number of post</th>\n",
       "      <th>number of error</th>\n",
       "      <th>error rate</th>\n",
       "    </tr>\n",
       "  </thead>\n",
       "  <tbody>\n",
       "    <tr>\n",
       "      <th>count</th>\n",
       "      <td>5.000000</td>\n",
       "      <td>5.000000</td>\n",
       "      <td>5.000000</td>\n",
       "    </tr>\n",
       "    <tr>\n",
       "      <th>mean</th>\n",
       "      <td>1009.000000</td>\n",
       "      <td>537.600000</td>\n",
       "      <td>0.536000</td>\n",
       "    </tr>\n",
       "    <tr>\n",
       "      <th>std</th>\n",
       "      <td>595.187365</td>\n",
       "      <td>307.674016</td>\n",
       "      <td>0.046152</td>\n",
       "    </tr>\n",
       "    <tr>\n",
       "      <th>min</th>\n",
       "      <td>252.000000</td>\n",
       "      <td>130.000000</td>\n",
       "      <td>0.470000</td>\n",
       "    </tr>\n",
       "    <tr>\n",
       "      <th>25%</th>\n",
       "      <td>647.000000</td>\n",
       "      <td>377.000000</td>\n",
       "      <td>0.520000</td>\n",
       "    </tr>\n",
       "    <tr>\n",
       "      <th>50%</th>\n",
       "      <td>946.000000</td>\n",
       "      <td>504.000000</td>\n",
       "      <td>0.530000</td>\n",
       "    </tr>\n",
       "    <tr>\n",
       "      <th>75%</th>\n",
       "      <td>1528.000000</td>\n",
       "      <td>791.000000</td>\n",
       "      <td>0.580000</td>\n",
       "    </tr>\n",
       "    <tr>\n",
       "      <th>max</th>\n",
       "      <td>1672.000000</td>\n",
       "      <td>886.000000</td>\n",
       "      <td>0.580000</td>\n",
       "    </tr>\n",
       "  </tbody>\n",
       "</table>\n",
       "</div>"
      ],
      "text/plain": [
       "       number of post  number of error  error rate\n",
       "count        5.000000         5.000000    5.000000\n",
       "mean      1009.000000       537.600000    0.536000\n",
       "std        595.187365       307.674016    0.046152\n",
       "min        252.000000       130.000000    0.470000\n",
       "25%        647.000000       377.000000    0.520000\n",
       "50%        946.000000       504.000000    0.530000\n",
       "75%       1528.000000       791.000000    0.580000\n",
       "max       1672.000000       886.000000    0.580000"
      ]
     },
     "execution_count": 112,
     "metadata": {},
     "output_type": "execute_result"
    }
   ],
   "source": [
    "count_data.describe()"
   ]
  },
  {
   "cell_type": "markdown",
   "metadata": {},
   "source": [
    "#### 下面计算所有发帖活动的发帖总量和错误总量，并将每个发帖活动的错误率数据可视化。"
   ]
  },
  {
   "cell_type": "code",
   "execution_count": 113,
   "metadata": {},
   "outputs": [
    {
     "data": {
      "text/plain": [
       "number of post     5045.0\n",
       "number of error    2688.0\n",
       "dtype: float64"
      ]
     },
     "execution_count": 113,
     "metadata": {},
     "output_type": "execute_result"
    }
   ],
   "source": [
    "count_data.iloc[:,0:2].sum()"
   ]
  },
  {
   "cell_type": "code",
   "execution_count": 114,
   "metadata": {},
   "outputs": [
    {
     "data": {
      "image/png": "[encoded data removed]",
      "text/plain": [
       "<Figure size 1152x576 with 1 Axes>"
      ]
     },
     "metadata": {
      "needs_background": "light"
     },
     "output_type": "display_data"
    }
   ],
   "source": [
    "error_rate_data = pd.DataFrame(error_rate_dict, index=['error rate'])\n",
    "error_rate_plot = error_rate_data.plot(kind='bar', figsize=(16, 8), title='error rate', rot=True)"
   ]
  },
  {
   "cell_type": "markdown",
   "metadata": {},
   "source": [
    "#### 接下来展示4个主页发帖任务中，不同错误的占比，并将其数据画图。"
   ]
  },
  {
   "cell_type": "code",
   "execution_count": 115,
   "metadata": {},
   "outputs": [
    {
     "data": {
      "text/html": [
       "<div>\n",
       "<style scoped>\n",
       "    .dataframe tbody tr th:only-of-type {\n",
       "        vertical-align: middle;\n",
       "    }\n",
       "\n",
       "    .dataframe tbody tr th {\n",
       "        vertical-align: top;\n",
       "    }\n",
       "\n",
       "    .dataframe thead th {\n",
       "        text-align: right;\n",
       "    }\n",
       "</style>\n",
       "<table border=\"1\" class=\"dataframe\">\n",
       "  <thead>\n",
       "    <tr style=\"text-align: right;\">\n",
       "      <th></th>\n",
       "      <th>code 0</th>\n",
       "      <th>code 101</th>\n",
       "      <th>code 102</th>\n",
       "      <th>code 103</th>\n",
       "      <th>code 121</th>\n",
       "      <th>code 168</th>\n",
       "      <th>code 3</th>\n",
       "      <th>code 55</th>\n",
       "      <th>code 81</th>\n",
       "    </tr>\n",
       "  </thead>\n",
       "  <tbody>\n",
       "    <tr>\n",
       "      <th>151.106.35.202 U43_page_post_logs_tony</th>\n",
       "      <td>0.003968</td>\n",
       "      <td>0.007937</td>\n",
       "      <td>0.000000</td>\n",
       "      <td>0.023810</td>\n",
       "      <td>0.003968</td>\n",
       "      <td>0.359127</td>\n",
       "      <td>0.085317</td>\n",
       "      <td>0.515873</td>\n",
       "      <td>0.000000</td>\n",
       "    </tr>\n",
       "    <tr>\n",
       "      <th>151.106.35.221 U43_pages_post_logs_tony</th>\n",
       "      <td>0.003793</td>\n",
       "      <td>0.010114</td>\n",
       "      <td>0.000000</td>\n",
       "      <td>0.021492</td>\n",
       "      <td>0.005057</td>\n",
       "      <td>0.288243</td>\n",
       "      <td>0.021492</td>\n",
       "      <td>0.614412</td>\n",
       "      <td>0.035398</td>\n",
       "    </tr>\n",
       "    <tr>\n",
       "      <th>151_106_42_145GEN_R49_pages_post_logs_aidan</th>\n",
       "      <td>0.000000</td>\n",
       "      <td>0.000000</td>\n",
       "      <td>0.001129</td>\n",
       "      <td>0.002257</td>\n",
       "      <td>0.011287</td>\n",
       "      <td>0.091422</td>\n",
       "      <td>0.006772</td>\n",
       "      <td>0.887133</td>\n",
       "      <td>0.000000</td>\n",
       "    </tr>\n",
       "    <tr>\n",
       "      <th>18U45-10 page_post_logs_aaron</th>\n",
       "      <td>0.015385</td>\n",
       "      <td>0.007692</td>\n",
       "      <td>0.000000</td>\n",
       "      <td>0.000000</td>\n",
       "      <td>0.000000</td>\n",
       "      <td>0.584615</td>\n",
       "      <td>0.015385</td>\n",
       "      <td>0.376923</td>\n",
       "      <td>0.000000</td>\n",
       "    </tr>\n",
       "    <tr>\n",
       "      <th>b8 151.106.41.12  page_post_logs_cary</th>\n",
       "      <td>0.021220</td>\n",
       "      <td>0.000000</td>\n",
       "      <td>0.000000</td>\n",
       "      <td>0.000000</td>\n",
       "      <td>0.005305</td>\n",
       "      <td>0.082228</td>\n",
       "      <td>0.000000</td>\n",
       "      <td>0.891247</td>\n",
       "      <td>0.000000</td>\n",
       "    </tr>\n",
       "  </tbody>\n",
       "</table>\n",
       "</div>"
      ],
      "text/plain": [
       "                                               code 0  code 101  code 102  \\\n",
       "151.106.35.202 U43_page_post_logs_tony       0.003968  0.007937  0.000000   \n",
       "151.106.35.221 U43_pages_post_logs_tony      0.003793  0.010114  0.000000   \n",
       "151_106_42_145GEN_R49_pages_post_logs_aidan  0.000000  0.000000  0.001129   \n",
       "18U45-10 page_post_logs_aaron                0.015385  0.007692  0.000000   \n",
       "b8 151.106.41.12  page_post_logs_cary        0.021220  0.000000  0.000000   \n",
       "\n",
       "                                             code 103  code 121  code 168  \\\n",
       "151.106.35.202 U43_page_post_logs_tony       0.023810  0.003968  0.359127   \n",
       "151.106.35.221 U43_pages_post_logs_tony      0.021492  0.005057  0.288243   \n",
       "151_106_42_145GEN_R49_pages_post_logs_aidan  0.002257  0.011287  0.091422   \n",
       "18U45-10 page_post_logs_aaron                0.000000  0.000000  0.584615   \n",
       "b8 151.106.41.12  page_post_logs_cary        0.000000  0.005305  0.082228   \n",
       "\n",
       "                                               code 3   code 55   code 81  \n",
       "151.106.35.202 U43_page_post_logs_tony       0.085317  0.515873  0.000000  \n",
       "151.106.35.221 U43_pages_post_logs_tony      0.021492  0.614412  0.035398  \n",
       "151_106_42_145GEN_R49_pages_post_logs_aidan  0.006772  0.887133  0.000000  \n",
       "18U45-10 page_post_logs_aaron                0.015385  0.376923  0.000000  \n",
       "b8 151.106.41.12  page_post_logs_cary        0.000000  0.891247  0.000000  "
      ]
     },
     "execution_count": 115,
     "metadata": {},
     "output_type": "execute_result"
    }
   ],
   "source": [
    "error_distribution = pd.DataFrame(error_distribution_dict).fillna(0)\n",
    "error_distribution.T"
   ]
  },
  {
   "cell_type": "code",
   "execution_count": 116,
   "metadata": {},
   "outputs": [
    {
     "data": {
      "image/png": "[encoded data removed]",
      "text/plain": [
       "<Figure size 1152x576 with 1 Axes>"
      ]
     },
     "metadata": {
      "needs_background": "light"
     },
     "output_type": "display_data"
    }
   ],
   "source": [
    "error_distribution_plot = error_distribution.plot(kind='bar', figsize=(16, 8), title='distribution of error code', rot=True)"
   ]
  },
  {
   "cell_type": "markdown",
   "metadata": {},
   "source": [
    "#### 下面看下不同错误的数量相对于发帖总数的比例，并将其数据画图。"
   ]
  },
  {
   "cell_type": "code",
   "execution_count": 117,
   "metadata": {},
   "outputs": [
    {
     "data": {
      "text/html": [
       "<div>\n",
       "<style scoped>\n",
       "    .dataframe tbody tr th:only-of-type {\n",
       "        vertical-align: middle;\n",
       "    }\n",
       "\n",
       "    .dataframe tbody tr th {\n",
       "        vertical-align: top;\n",
       "    }\n",
       "\n",
       "    .dataframe thead th {\n",
       "        text-align: right;\n",
       "    }\n",
       "</style>\n",
       "<table border=\"1\" class=\"dataframe\">\n",
       "  <thead>\n",
       "    <tr style=\"text-align: right;\">\n",
       "      <th></th>\n",
       "      <th>code 0</th>\n",
       "      <th>code 101</th>\n",
       "      <th>code 102</th>\n",
       "      <th>code 103</th>\n",
       "      <th>code 121</th>\n",
       "      <th>code 168</th>\n",
       "      <th>code 3</th>\n",
       "      <th>code 55</th>\n",
       "      <th>code 81</th>\n",
       "    </tr>\n",
       "  </thead>\n",
       "  <tbody>\n",
       "    <tr>\n",
       "      <th>151.106.35.202 U43_page_post_logs_tony</th>\n",
       "      <td>0.002114</td>\n",
       "      <td>0.004228</td>\n",
       "      <td>0.000000</td>\n",
       "      <td>0.012685</td>\n",
       "      <td>0.002114</td>\n",
       "      <td>0.191332</td>\n",
       "      <td>0.045455</td>\n",
       "      <td>0.274841</td>\n",
       "      <td>0.000000</td>\n",
       "    </tr>\n",
       "    <tr>\n",
       "      <th>151.106.35.221 U43_pages_post_logs_tony</th>\n",
       "      <td>0.001794</td>\n",
       "      <td>0.004785</td>\n",
       "      <td>0.000000</td>\n",
       "      <td>0.010167</td>\n",
       "      <td>0.002392</td>\n",
       "      <td>0.136364</td>\n",
       "      <td>0.010167</td>\n",
       "      <td>0.290670</td>\n",
       "      <td>0.016746</td>\n",
       "    </tr>\n",
       "    <tr>\n",
       "      <th>151_106_42_145GEN_R49_pages_post_logs_aidan</th>\n",
       "      <td>0.000000</td>\n",
       "      <td>0.000000</td>\n",
       "      <td>0.000654</td>\n",
       "      <td>0.001309</td>\n",
       "      <td>0.006545</td>\n",
       "      <td>0.053010</td>\n",
       "      <td>0.003927</td>\n",
       "      <td>0.514398</td>\n",
       "      <td>0.000000</td>\n",
       "    </tr>\n",
       "    <tr>\n",
       "      <th>18U45-10 page_post_logs_aaron</th>\n",
       "      <td>0.007937</td>\n",
       "      <td>0.003968</td>\n",
       "      <td>0.000000</td>\n",
       "      <td>0.000000</td>\n",
       "      <td>0.000000</td>\n",
       "      <td>0.301587</td>\n",
       "      <td>0.007937</td>\n",
       "      <td>0.194444</td>\n",
       "      <td>0.000000</td>\n",
       "    </tr>\n",
       "    <tr>\n",
       "      <th>b8 151.106.41.12  page_post_logs_cary</th>\n",
       "      <td>0.012365</td>\n",
       "      <td>0.000000</td>\n",
       "      <td>0.000000</td>\n",
       "      <td>0.000000</td>\n",
       "      <td>0.003091</td>\n",
       "      <td>0.047913</td>\n",
       "      <td>0.000000</td>\n",
       "      <td>0.519320</td>\n",
       "      <td>0.000000</td>\n",
       "    </tr>\n",
       "  </tbody>\n",
       "</table>\n",
       "</div>"
      ],
      "text/plain": [
       "                                               code 0  code 101  code 102  \\\n",
       "151.106.35.202 U43_page_post_logs_tony       0.002114  0.004228  0.000000   \n",
       "151.106.35.221 U43_pages_post_logs_tony      0.001794  0.004785  0.000000   \n",
       "151_106_42_145GEN_R49_pages_post_logs_aidan  0.000000  0.000000  0.000654   \n",
       "18U45-10 page_post_logs_aaron                0.007937  0.003968  0.000000   \n",
       "b8 151.106.41.12  page_post_logs_cary        0.012365  0.000000  0.000000   \n",
       "\n",
       "                                             code 103  code 121  code 168  \\\n",
       "151.106.35.202 U43_page_post_logs_tony       0.012685  0.002114  0.191332   \n",
       "151.106.35.221 U43_pages_post_logs_tony      0.010167  0.002392  0.136364   \n",
       "151_106_42_145GEN_R49_pages_post_logs_aidan  0.001309  0.006545  0.053010   \n",
       "18U45-10 page_post_logs_aaron                0.000000  0.000000  0.301587   \n",
       "b8 151.106.41.12  page_post_logs_cary        0.000000  0.003091  0.047913   \n",
       "\n",
       "                                               code 3   code 55   code 81  \n",
       "151.106.35.202 U43_page_post_logs_tony       0.045455  0.274841  0.000000  \n",
       "151.106.35.221 U43_pages_post_logs_tony      0.010167  0.290670  0.016746  \n",
       "151_106_42_145GEN_R49_pages_post_logs_aidan  0.003927  0.514398  0.000000  \n",
       "18U45-10 page_post_logs_aaron                0.007937  0.194444  0.000000  \n",
       "b8 151.106.41.12  page_post_logs_cary        0.000000  0.519320  0.000000  "
      ]
     },
     "execution_count": 117,
     "metadata": {},
     "output_type": "execute_result"
    }
   ],
   "source": [
    "error_distribution_to_total = pd.DataFrame(error_distribution_to_total_dict).fillna(0)\n",
    "error_distribution_to_total.T"
   ]
  },
  {
   "cell_type": "code",
   "execution_count": 118,
   "metadata": {},
   "outputs": [
    {
     "data": {
      "image/png": "[encoded data removed]",
      "text/plain": [
       "<Figure size 1152x576 with 1 Axes>"
      ]
     },
     "metadata": {
      "needs_background": "light"
     },
     "output_type": "display_data"
    }
   ],
   "source": [
    "error_distribution_to_total_plot = error_distribution_to_total.plot(kind='bar', figsize=(16, 8), rot=True,\n",
    "                                                                    title='distribution of error code to total')"
   ]
  },
  {
   "cell_type": "markdown",
   "metadata": {},
   "source": [
    "#### 从以上的数据分析可以看出，错误发帖量占总发帖量的占比为40%-60%之间，在所有错误发帖中数量占比最高的错误为code 55，code 55数量占总错误量的比例40%-90%之间，code 55数量相对于发帖总数的比例在20%-50%之间，其中错误占比第二高的错误为code 168，此类错误为超时错误，主要由于服务器CPU负载过高或者账号网络太差造成，此类错误可以通过优化CPU负载和账号网络降低错误比例，code 55错误为Facebook群限制Facebook主页在群里发帖和评论，从而导致的发帖错误，此错误受Facebook群的设置限制，非发帖操作能解决。"
   ]
  },
  {
   "cell_type": "code",
   "execution_count": null,
   "metadata": {},
   "outputs": [],
   "source": []
  }
 ],
 "metadata": {
  "kernelspec": {
   "display_name": "Python 3",
   "language": "python",
   "name": "python3"
  },
  "language_info": {
   "codemirror_mode": {
    "name": "ipython",
    "version": 3
   },
   "file_extension": ".py",
   "mimetype": "text/x-python",
   "name": "python",
   "nbconvert_exporter": "python",
   "pygments_lexer": "ipython3",
   "version": "3.8.5"
  }
 },
 "nbformat": 4,
 "nbformat_minor": 4
}
