{
 "cells": [
  {
   "cell_type": "code",
   "execution_count": 5,
   "metadata": {},
   "outputs": [],
   "source": [
    "from jarvee_logs import LogsProcess, GroupJoiner, Publishing, Tools, Bump\n",
    "import pandas as pd\n",
    "import matplotlib.pyplot as plt\n",
    "import cufflinks as cf\n",
    "import os"
   ]
  },
  {
   "cell_type": "code",
   "execution_count": 13,
   "metadata": {},
   "outputs": [],
   "source": [
    "x =[]"
   ]
  },
  {
   "cell_type": "code",
   "execution_count": 16,
   "metadata": {},
   "outputs": [
    {
     "name": "stdout",
     "output_type": "stream",
     "text": [
      "0\n"
     ]
    }
   ],
   "source": []
  },
  {
   "cell_type": "code",
   "execution_count": 6,
   "metadata": {},
   "outputs": [
    {
     "data": {
      "text/html": [
       "        <script type=\"text/javascript\">\n",
       "        window.PlotlyConfig = {MathJaxConfig: 'local'};\n",
       "        if (window.MathJax) {MathJax.Hub.Config({SVG: {font: \"STIX-Web\"}});}\n",
       "        if (typeof require !== 'undefined') {\n",
       "        require.undef(\"plotly\");\n",
       "        requirejs.config({\n",
       "            paths: {\n",
       "                'plotly': ['https://cdn.plot.ly/plotly-2.2.0.min']\n",
       "            }\n",
       "        });\n",
       "        require(['plotly'], function(Plotly) {\n",
       "            window._Plotly = Plotly;\n",
       "        });\n",
       "        }\n",
       "        </script>\n",
       "        "
      ]
     },
     "metadata": {},
     "output_type": "display_data"
    }
   ],
   "source": [
    "cf.set_config_file(offline=True)"
   ]
  },
  {
   "cell_type": "markdown",
   "metadata": {},
   "source": [
    "## 本次通过搜集到的Jarvee日志文件，对机器人的Group Joiner、Publishing和Bump板块做一个系统和详细的数据分析，因为我们使用Facebook个人账号和主页账号进行了相应的操作，故会相应的对个人账号和主页账号进行相同的分析，并对比两者之间的共同点和差异点。"
   ]
  },
  {
   "cell_type": "markdown",
   "metadata": {},
   "source": [
    "### 第一步先载入日志文件，并将个人账号和主页账号的日志文件分别合并为一个文件。"
   ]
  },
  {
   "cell_type": "code",
   "execution_count": 7,
   "metadata": {},
   "outputs": [],
   "source": [
    "account_path = 'D:/data_analysis/account_logs'\n",
    "page_path = 'D:/data_analysis/page_logs'"
   ]
  },
  {
   "cell_type": "code",
   "execution_count": 8,
   "metadata": {},
   "outputs": [],
   "source": [
    "account_files_list = os.listdir(account_path)\n",
    "page_files_list = os.listdir(page_path)"
   ]
  },
  {
   "cell_type": "code",
   "execution_count": 9,
   "metadata": {},
   "outputs": [],
   "source": [
    "page_logs = LogsProcess(page_files_list)\n",
    "account_logs = LogsProcess(account_files_list)\n",
    "page_files = page_logs.files\n",
    "account_files = account_logs.files"
   ]
  },
  {
   "cell_type": "code",
   "execution_count": 10,
   "metadata": {},
   "outputs": [
    {
     "data": {
      "text/plain": [
       "['151.106.35.202 U43_page_post_tony.csv',\n",
       " '151.106.35.202 U44_page_tony.csv',\n",
       " '151.106.35.221 U43_page_post_tony.csv',\n",
       " '151.106.35.221 U44_page_post_tony.csv',\n",
       " '151.106.42.145 GEN R49_page_post_aidan.csv',\n",
       " '151.106.42.148 zhuyeA1_page_post_cary.txt',\n",
       " '151.106.42.48 Kim R34_page_post_aidan.csv',\n",
       " '18 U45-10_page_post_aaron.csv',\n",
       " 'b8 151.106.41.12_page_post_logs_cary.csv']"
      ]
     },
     "execution_count": 10,
     "metadata": {},
     "output_type": "execute_result"
    }
   ],
   "source": [
    "page_files"
   ]
  },
  {
   "cell_type": "code",
   "execution_count": 11,
   "metadata": {},
   "outputs": [
    {
     "data": {
      "text/plain": [
       "['151.106.35.202 U37_account_post_and_bump_tony.csv',\n",
       " '151.106.35.202 U38_account_post_and_bump_tony.csv',\n",
       " '151.106.35.202 U39_account_post_and_bump.tony.csv',\n",
       " '151.106.35.202 U40_account_post_and_bump_tony.csv',\n",
       " '151.106.35.202 U41_account_post_and_bump_tony.csv',\n",
       " '151.106.35.202 U42_account_page_and_bump_tony.csv',\n",
       " '151.106.35.221 U37_account_post_and_bump_tony.csv',\n",
       " '151.106.35.221 U38_account_post_and_bump_tony.csv',\n",
       " '151.106.35.221 U39_account_post_and_bump_tony.csv',\n",
       " '151.106.35.221 U40_account_post_and_bump_tony.csv',\n",
       " '151.106.35.221 U41_account_post_and_bump_tony.csv',\n",
       " '151.106.41.111 k6_account_post_and_bump_cary.txt',\n",
       " '151.106.41.12 c8_account_post_and_bump_cary.csv',\n",
       " '151.106.41.12_account_post_and_bump_cary.txt',\n",
       " '151.106.41.4 u10r5_account_post_and_bump_cary.txt',\n",
       " '151.106.42.1116GEN45_account_post_and_bump_aidan.csv',\n",
       " '151.106.42.128Martin-R15_account_post_and_bump_aidan.csv',\n",
       " '151.106.42.169 g2_account_post_and_bump_cary.csv',\n",
       " '151.106.42.169 g5_account_post_and_bump_cary.csv',\n",
       " '151.106.42.169 g6_account_post_and_bump_cary.csv',\n",
       " '151.106.42.169_account_post_and_bump_cary.csv',\n",
       " '151.106.42.23 U36_account_post_and_bump_tony.csv',\n",
       " '151.106.42.23 U38_account_post_and_bump_tony.csv',\n",
       " '151.106.42.23 U39_account_post_and_bump_tony.csv',\n",
       " '151.106.42.23 U40_account_post_and_bump_tony.csv',\n",
       " '151.106.42.23 U41_account_post_and_bump_tony.csv',\n",
       " '151.106.42.23 U42_account_post_and_bump_tony.csv',\n",
       " '155 U31_account_post_and_bump_aaron.csv']"
      ]
     },
     "execution_count": 11,
     "metadata": {},
     "output_type": "execute_result"
    }
   ],
   "source": [
    "account_files"
   ]
  },
  {
   "cell_type": "code",
   "execution_count": 12,
   "metadata": {},
   "outputs": [
    {
     "ename": "ValueError",
     "evalue": "Invalid file path or buffer object type: <class 'list'>",
     "output_type": "error",
     "traceback": [
      "\u001b[1;31m---------------------------------------------------------------------------\u001b[0m",
      "\u001b[1;31mValueError\u001b[0m                                Traceback (most recent call last)",
      "\u001b[1;32m<ipython-input-12-66a19d249d83>\u001b[0m in \u001b[0;36m<module>\u001b[1;34m\u001b[0m\n\u001b[1;32m----> 1\u001b[1;33m \u001b[0mpage_logs\u001b[0m\u001b[1;33m.\u001b[0m\u001b[0mlogs_concat\u001b[0m\u001b[1;33m(\u001b[0m\u001b[1;33m)\u001b[0m\u001b[1;33m\u001b[0m\u001b[1;33m\u001b[0m\u001b[0m\n\u001b[0m",
      "\u001b[1;32mD:\\data_analysis\\jarvee_logs.py\u001b[0m in \u001b[0;36mlogs_concat\u001b[1;34m(self)\u001b[0m\n\u001b[0;32m     10\u001b[0m         \u001b[1;32mfor\u001b[0m \u001b[0mfile\u001b[0m \u001b[1;32min\u001b[0m \u001b[0mself\u001b[0m\u001b[1;33m.\u001b[0m\u001b[0mfiles\u001b[0m\u001b[1;33m:\u001b[0m\u001b[1;33m\u001b[0m\u001b[1;33m\u001b[0m\u001b[0m\n\u001b[0;32m     11\u001b[0m             \u001b[0mname\u001b[0m \u001b[1;33m=\u001b[0m \u001b[0mfile\u001b[0m\u001b[1;33m.\u001b[0m\u001b[0msplit\u001b[0m\u001b[1;33m(\u001b[0m\u001b[1;34m'_'\u001b[0m\u001b[1;33m)\u001b[0m\u001b[1;33m[\u001b[0m\u001b[1;36m0\u001b[0m\u001b[1;33m]\u001b[0m\u001b[1;33m\u001b[0m\u001b[1;33m\u001b[0m\u001b[0m\n\u001b[1;32m---> 12\u001b[1;33m             \u001b[0mdf\u001b[0m \u001b[1;33m=\u001b[0m \u001b[0mpd\u001b[0m\u001b[1;33m.\u001b[0m\u001b[0mread_csv\u001b[0m\u001b[1;33m(\u001b[0m\u001b[0mself\u001b[0m\u001b[1;33m.\u001b[0m\u001b[0mfiles\u001b[0m\u001b[1;33m)\u001b[0m\u001b[1;33m\u001b[0m\u001b[1;33m\u001b[0m\u001b[0m\n\u001b[0m\u001b[0;32m     13\u001b[0m             \u001b[0mdf\u001b[0m\u001b[1;33m[\u001b[0m\u001b[1;34m'Robot'\u001b[0m\u001b[1;33m]\u001b[0m \u001b[1;33m=\u001b[0m \u001b[0mname\u001b[0m\u001b[1;33m\u001b[0m\u001b[1;33m\u001b[0m\u001b[0m\n\u001b[0;32m     14\u001b[0m             \u001b[0mprint\u001b[0m\u001b[1;33m(\u001b[0m\u001b[0mdf\u001b[0m\u001b[1;33m)\u001b[0m\u001b[1;33m\u001b[0m\u001b[1;33m\u001b[0m\u001b[0m\n",
      "\u001b[1;32m~\\anaconda3\\lib\\site-packages\\pandas\\io\\parsers.py\u001b[0m in \u001b[0;36mread_csv\u001b[1;34m(filepath_or_buffer, sep, delimiter, header, names, index_col, usecols, squeeze, prefix, mangle_dupe_cols, dtype, engine, converters, true_values, false_values, skipinitialspace, skiprows, skipfooter, nrows, na_values, keep_default_na, na_filter, verbose, skip_blank_lines, parse_dates, infer_datetime_format, keep_date_col, date_parser, dayfirst, cache_dates, iterator, chunksize, compression, thousands, decimal, lineterminator, quotechar, quoting, doublequote, escapechar, comment, encoding, dialect, error_bad_lines, warn_bad_lines, delim_whitespace, low_memory, memory_map, float_precision)\u001b[0m\n\u001b[0;32m    684\u001b[0m     )\n\u001b[0;32m    685\u001b[0m \u001b[1;33m\u001b[0m\u001b[0m\n\u001b[1;32m--> 686\u001b[1;33m     \u001b[1;32mreturn\u001b[0m \u001b[0m_read\u001b[0m\u001b[1;33m(\u001b[0m\u001b[0mfilepath_or_buffer\u001b[0m\u001b[1;33m,\u001b[0m \u001b[0mkwds\u001b[0m\u001b[1;33m)\u001b[0m\u001b[1;33m\u001b[0m\u001b[1;33m\u001b[0m\u001b[0m\n\u001b[0m\u001b[0;32m    687\u001b[0m \u001b[1;33m\u001b[0m\u001b[0m\n\u001b[0;32m    688\u001b[0m \u001b[1;33m\u001b[0m\u001b[0m\n",
      "\u001b[1;32m~\\anaconda3\\lib\\site-packages\\pandas\\io\\parsers.py\u001b[0m in \u001b[0;36m_read\u001b[1;34m(filepath_or_buffer, kwds)\u001b[0m\n\u001b[0;32m    432\u001b[0m     \u001b[1;31m# though mypy handling of conditional imports is difficult.\u001b[0m\u001b[1;33m\u001b[0m\u001b[1;33m\u001b[0m\u001b[1;33m\u001b[0m\u001b[0m\n\u001b[0;32m    433\u001b[0m     \u001b[1;31m# See https://github.com/python/mypy/issues/1297\u001b[0m\u001b[1;33m\u001b[0m\u001b[1;33m\u001b[0m\u001b[1;33m\u001b[0m\u001b[0m\n\u001b[1;32m--> 434\u001b[1;33m     fp_or_buf, _, compression, should_close = get_filepath_or_buffer(\n\u001b[0m\u001b[0;32m    435\u001b[0m         \u001b[0mfilepath_or_buffer\u001b[0m\u001b[1;33m,\u001b[0m \u001b[0mencoding\u001b[0m\u001b[1;33m,\u001b[0m \u001b[0mcompression\u001b[0m\u001b[1;33m\u001b[0m\u001b[1;33m\u001b[0m\u001b[0m\n\u001b[0;32m    436\u001b[0m     )\n",
      "\u001b[1;32m~\\anaconda3\\lib\\site-packages\\pandas\\io\\common.py\u001b[0m in \u001b[0;36mget_filepath_or_buffer\u001b[1;34m(filepath_or_buffer, encoding, compression, mode, storage_options)\u001b[0m\n\u001b[0;32m    241\u001b[0m     \u001b[1;32mif\u001b[0m \u001b[1;32mnot\u001b[0m \u001b[0mis_file_like\u001b[0m\u001b[1;33m(\u001b[0m\u001b[0mfilepath_or_buffer\u001b[0m\u001b[1;33m)\u001b[0m\u001b[1;33m:\u001b[0m\u001b[1;33m\u001b[0m\u001b[1;33m\u001b[0m\u001b[0m\n\u001b[0;32m    242\u001b[0m         \u001b[0mmsg\u001b[0m \u001b[1;33m=\u001b[0m \u001b[1;34mf\"Invalid file path or buffer object type: {type(filepath_or_buffer)}\"\u001b[0m\u001b[1;33m\u001b[0m\u001b[1;33m\u001b[0m\u001b[0m\n\u001b[1;32m--> 243\u001b[1;33m         \u001b[1;32mraise\u001b[0m \u001b[0mValueError\u001b[0m\u001b[1;33m(\u001b[0m\u001b[0mmsg\u001b[0m\u001b[1;33m)\u001b[0m\u001b[1;33m\u001b[0m\u001b[1;33m\u001b[0m\u001b[0m\n\u001b[0m\u001b[0;32m    244\u001b[0m \u001b[1;33m\u001b[0m\u001b[0m\n\u001b[0;32m    245\u001b[0m     \u001b[1;32mreturn\u001b[0m \u001b[0mfilepath_or_buffer\u001b[0m\u001b[1;33m,\u001b[0m \u001b[1;32mNone\u001b[0m\u001b[1;33m,\u001b[0m \u001b[0mcompression\u001b[0m\u001b[1;33m,\u001b[0m \u001b[1;32mFalse\u001b[0m\u001b[1;33m\u001b[0m\u001b[1;33m\u001b[0m\u001b[0m\n",
      "\u001b[1;31mValueError\u001b[0m: Invalid file path or buffer object type: <class 'list'>"
     ]
    }
   ],
   "source": [
    "page_logs.logs_concat()"
   ]
  },
  {
   "cell_type": "code",
   "execution_count": null,
   "metadata": {},
   "outputs": [],
   "source": [
    "account_logs.logs_concat()"
   ]
  },
  {
   "cell_type": "markdown",
   "metadata": {},
   "source": [
    "### 接下来从个人账号和主页账号对应的日志文件中筛选出Group Joiner、Publishing和Bump相应的数据。"
   ]
  },
  {
   "cell_type": "code",
   "execution_count": null,
   "metadata": {},
   "outputs": [],
   "source": [
    "page_group_joiner = GroupJoiner(page_path)\n",
    "page_publishing = Publishing(page_path)\n",
    "page_bump = Bump(page_path)\n",
    "page_tools = Tools(page_path)\n",
    "\n",
    "account_group_joiner = GroupJoiner(account_path)\n",
    "account_publishing = Publishing(account_path)\n",
    "account_bump = Bump(account_path)\n",
    "account_tools = Tools(account_path)"
   ]
  },
  {
   "cell_type": "markdown",
   "metadata": {},
   "source": [
    "### 完成日志文件的筛选分类处理之后，接下来我们先计算个人账号和主页账号每台服务器上的Group Joiner和Publishing成功的数量，同时计算2者的比例，并将数据汇总到一个表格，再将数据可视化，最后对数据进行规整处理，并将其结果可视化。"
   ]
  },
  {
   "cell_type": "code",
   "execution_count": null,
   "metadata": {},
   "outputs": [],
   "source": [
    "page_group_joiner_publishing = page_tools.group_joiner_publishing_concat_by_robot()\n",
    "page_group_joiner_publishing"
   ]
  },
  {
   "cell_type": "code",
   "execution_count": null,
   "metadata": {},
   "outputs": [],
   "source": [
    "page_group_joiner_publishing.describe()"
   ]
  },
  {
   "cell_type": "code",
   "execution_count": null,
   "metadata": {},
   "outputs": [],
   "source": [
    "def simplify_index(df):\n",
    "    simplified_df = df.copy()\n",
    "    simplified_df.index = simplified_df.index.map(lambda x: x.split('.')[-1])\n",
    "    \n",
    "    return simplified_df\n",
    "\n",
    "def data_normalized(df, columns=None):\n",
    "    if isinstance(df, pd.core.frame.DataFrame):\n",
    "        max_rate = df[columns].max()\n",
    "        min_rate = df[columns].min()\n",
    "        df_normalized = df[(df[columns] > min_rate) & (df[columns] < max_rate)]\n",
    "    elif isinstance(df, pd.core.frame.Series):\n",
    "        max_rate = df.max()\n",
    "        min_rate = df.min()\n",
    "        df_normalized = df[(df > min_rate) & (df < max_rate)]\n",
    "    \n",
    "    return df_normalized\n",
    "\n",
    "def subplots_bar(df):\n",
    "    df.plot(kind='bar', subplots=True, figsize=(16, 10))\n",
    "    plt.show()\n",
    "\n",
    "def subplots_box(df):\n",
    "    df.plot(kind='box', subplots=True, figsize=(16, 8))\n",
    "    plt.show()\n",
    "\n",
    "def plot_bar(df, color='blue'):\n",
    "    df.plot(kind='bar', color=color, figsize=(16, 8))\n",
    "    plt.show()\n",
    "\n",
    "def plot_box(df, color='blue'):\n",
    "    df.plot(kind='box', color=color, figsize=(16, 8))\n",
    "    plt.show()\n",
    "    \n",
    "def plot_bars(df):\n",
    "    df.plot(kind='bar', figsize=(16, 8))\n",
    "    plt.show()"
   ]
  },
  {
   "cell_type": "code",
   "execution_count": null,
   "metadata": {},
   "outputs": [],
   "source": [
    "df = simplify_index(page_group_joiner_publishing)\n",
    "df.iplot(kind='bar', subplots=True, theme='white')\n",
    "# subplots_bar(df)"
   ]
  },
  {
   "cell_type": "code",
   "execution_count": null,
   "metadata": {},
   "outputs": [],
   "source": [
    "subplots_box(df)"
   ]
  },
  {
   "cell_type": "code",
   "execution_count": null,
   "metadata": {},
   "outputs": [],
   "source": [
    "df = data_normalized(df, 'Destinations/Groups')\n",
    "df.describe()"
   ]
  },
  {
   "cell_type": "code",
   "execution_count": null,
   "metadata": {},
   "outputs": [],
   "source": [
    "# df.iplot(kind='bar', subplots=True, theme='white')\n",
    "subplots_bar(df)"
   ]
  },
  {
   "cell_type": "code",
   "execution_count": null,
   "metadata": {},
   "outputs": [],
   "source": [
    "subplots_box(df)"
   ]
  },
  {
   "cell_type": "code",
   "execution_count": null,
   "metadata": {},
   "outputs": [],
   "source": [
    "account_group_joiner_publishing = account_tools.group_joiner_publishing_concat_by_robot()\n",
    "account_group_joiner_publishing"
   ]
  },
  {
   "cell_type": "code",
   "execution_count": null,
   "metadata": {},
   "outputs": [],
   "source": [
    "account_group_joiner_publishing.describe()"
   ]
  },
  {
   "cell_type": "code",
   "execution_count": null,
   "metadata": {},
   "outputs": [],
   "source": [
    "df = simplify_index(account_group_joiner_publishing)\n",
    "# df.iplot(subplots=True, kind='bar', shape=(3, 1), theme='white')\n",
    "subplots_bar(df)"
   ]
  },
  {
   "cell_type": "code",
   "execution_count": null,
   "metadata": {},
   "outputs": [],
   "source": [
    "subplots_box(df)"
   ]
  },
  {
   "cell_type": "code",
   "execution_count": null,
   "metadata": {},
   "outputs": [],
   "source": [
    "df = data_normalized(df, 'Destinations/Groups')\n",
    "df.describe()"
   ]
  },
  {
   "cell_type": "code",
   "execution_count": null,
   "metadata": {},
   "outputs": [],
   "source": [
    "# df.iplot(subplots=True, kind='bar', shape=(3, 1), theme='white')\n",
    "subplots_bar(df)"
   ]
  },
  {
   "cell_type": "code",
   "execution_count": null,
   "metadata": {},
   "outputs": [],
   "source": [
    "subplots_box(df)"
   ]
  },
  {
   "cell_type": "markdown",
   "metadata": {},
   "source": [
    "### 接下来我们计算个人账号每台服务器上的Publishing和Bump成功的数量，同时计算2者的比例，并将数据汇总到一个表格，再将数据可视化。"
   ]
  },
  {
   "cell_type": "code",
   "execution_count": null,
   "metadata": {},
   "outputs": [],
   "source": [
    "account_publishing_bump = account_tools.publishing_bump_concat_by_robot()\n",
    "account_publishing_bump"
   ]
  },
  {
   "cell_type": "code",
   "execution_count": null,
   "metadata": {},
   "outputs": [],
   "source": [
    "account_publishing_bump.describe()"
   ]
  },
  {
   "cell_type": "code",
   "execution_count": null,
   "metadata": {},
   "outputs": [],
   "source": [
    "df = simplify_index(account_publishing_bump)\n",
    "# df.iplot(kind='bar', subplots= True, shape=(3, 1), theme='white')\n",
    "subplots_bar(df)"
   ]
  },
  {
   "cell_type": "code",
   "execution_count": null,
   "metadata": {},
   "outputs": [],
   "source": [
    "subplots_box(df)"
   ]
  },
  {
   "cell_type": "code",
   "execution_count": null,
   "metadata": {},
   "outputs": [],
   "source": [
    "df = data_normalized(df, 'Bumps/Publishing')\n",
    "df.describe()"
   ]
  },
  {
   "cell_type": "code",
   "execution_count": null,
   "metadata": {},
   "outputs": [],
   "source": [
    "# df.iplot(kind='bar', subplots= True, shape=(3, 1), theme='white')\n",
    "subplots_bar(df)"
   ]
  },
  {
   "cell_type": "code",
   "execution_count": null,
   "metadata": {},
   "outputs": [],
   "source": [
    "subplots_box(df)"
   ]
  },
  {
   "cell_type": "markdown",
   "metadata": {},
   "source": [
    "### 接下来我们计算个人账号每台服务器上的Group Joiner和Bump成功的数量，同时计算2者的比例，并将数据汇总到一个表格，再将数据可视化。"
   ]
  },
  {
   "cell_type": "code",
   "execution_count": null,
   "metadata": {},
   "outputs": [],
   "source": [
    "account_group_joiner_bump = account_tools.group_joiner_bump_concat_by_robot()\n",
    "account_group_joiner_bump"
   ]
  },
  {
   "cell_type": "code",
   "execution_count": null,
   "metadata": {},
   "outputs": [],
   "source": [
    "account_group_joiner_bump.describe()"
   ]
  },
  {
   "cell_type": "code",
   "execution_count": null,
   "metadata": {},
   "outputs": [],
   "source": [
    "df = simplify_index(account_group_joiner_bump)\n",
    "# df.iplot(kind='bar', subplots=True, shape=(3, 1), theme='white')\n",
    "subplots_bar(df)"
   ]
  },
  {
   "cell_type": "code",
   "execution_count": null,
   "metadata": {},
   "outputs": [],
   "source": [
    "subplots_box(df)"
   ]
  },
  {
   "cell_type": "code",
   "execution_count": null,
   "metadata": {},
   "outputs": [],
   "source": [
    "df = data_normalized(df, 'Bumps/Groups')\n",
    "df.describe()"
   ]
  },
  {
   "cell_type": "code",
   "execution_count": null,
   "metadata": {},
   "outputs": [],
   "source": [
    "# df.iplot(kind='bar', subplots=True, shape=(3, 1), theme='white')\n",
    "subplots_bar(df)"
   ]
  },
  {
   "cell_type": "code",
   "execution_count": null,
   "metadata": {},
   "outputs": [],
   "source": [
    "subplots_box(df)"
   ]
  },
  {
   "cell_type": "markdown",
   "metadata": {},
   "source": [
    "### 下来的第二部分我们分别计算Group Joiner、Publishing和Bump任务执行的错误率、错误分布和每个错误占任务执行总数的比例，并将相应的数据可视化，首先我们先处理Group Joiner相关的内容。"
   ]
  },
  {
   "cell_type": "code",
   "execution_count": null,
   "metadata": {},
   "outputs": [],
   "source": [
    "page_group_joiner_error_rate = page_group_joiner.error_rate_by_robot()\n",
    "page_group_joiner_error_rate"
   ]
  },
  {
   "cell_type": "code",
   "execution_count": null,
   "metadata": {},
   "outputs": [],
   "source": [
    "page_group_joiner_error_rate.describe()"
   ]
  },
  {
   "cell_type": "code",
   "execution_count": null,
   "metadata": {},
   "outputs": [],
   "source": [
    "df = simplify_index(page_group_joiner_error_rate)\n",
    "# df.iplot(kind='bar', theme='white', color='red')\n",
    "plot_bar(df, 'red')"
   ]
  },
  {
   "cell_type": "code",
   "execution_count": null,
   "metadata": {},
   "outputs": [],
   "source": [
    "plot_box(df, 'red')"
   ]
  },
  {
   "cell_type": "code",
   "execution_count": null,
   "metadata": {},
   "outputs": [],
   "source": [
    "df = data_normalized(df)\n",
    "df.describe()"
   ]
  },
  {
   "cell_type": "code",
   "execution_count": null,
   "metadata": {},
   "outputs": [],
   "source": [
    "# df.iplot(kind='bar', theme='white', color='red')\n",
    "plot_bar(df, 'red')"
   ]
  },
  {
   "cell_type": "code",
   "execution_count": null,
   "metadata": {},
   "outputs": [],
   "source": [
    "plot_box(df, 'red')"
   ]
  },
  {
   "cell_type": "code",
   "execution_count": null,
   "metadata": {},
   "outputs": [],
   "source": [
    "account_group_joiner_error_rate = account_group_joiner.error_rate_by_robot()\n",
    "account_group_joiner_error_rate"
   ]
  },
  {
   "cell_type": "code",
   "execution_count": null,
   "metadata": {},
   "outputs": [],
   "source": [
    "account_group_joiner_error_rate.describe()"
   ]
  },
  {
   "cell_type": "code",
   "execution_count": null,
   "metadata": {},
   "outputs": [],
   "source": [
    "df = simplify_index(account_group_joiner_error_rate)\n",
    "# df.iplot(kind='bar', theme='white', color='red')\n",
    "plot_bar(df, 'red')"
   ]
  },
  {
   "cell_type": "code",
   "execution_count": null,
   "metadata": {},
   "outputs": [],
   "source": [
    "df = data_normalized(df)\n",
    "df.describe()"
   ]
  },
  {
   "cell_type": "code",
   "execution_count": null,
   "metadata": {},
   "outputs": [],
   "source": [
    "# df.iplot(kind='bar', theme='white', color='red')\n",
    "df.plot(kind = 'bar', color='red', figsize=(16, 8))\n",
    "plt.show()"
   ]
  },
  {
   "cell_type": "code",
   "execution_count": null,
   "metadata": {},
   "outputs": [],
   "source": [
    "plot_box(df, 'red')"
   ]
  },
  {
   "cell_type": "code",
   "execution_count": null,
   "metadata": {},
   "outputs": [],
   "source": [
    "page_group_joiner_error_distribution = page_group_joiner.error_distribution_by_robot().unstack().fillna(0)\n",
    "page_group_joiner_error_distribution"
   ]
  },
  {
   "cell_type": "code",
   "execution_count": null,
   "metadata": {},
   "outputs": [],
   "source": [
    "page_group_joiner_error_distribution.describe()"
   ]
  },
  {
   "cell_type": "code",
   "execution_count": null,
   "metadata": {},
   "outputs": [],
   "source": [
    "df = simplify_index(page_group_joiner_error_distribution)\n",
    "# df.T.iplot(kind='bar', theme='white')\n",
    "plot_bars(df.T)"
   ]
  },
  {
   "cell_type": "code",
   "execution_count": null,
   "metadata": {},
   "outputs": [],
   "source": [
    "subplots_box(df[['code168', 'code202', 'code581']])"
   ]
  },
  {
   "cell_type": "code",
   "execution_count": null,
   "metadata": {},
   "outputs": [],
   "source": [
    "page_group_joiner_error_distribution_to_total = page_group_joiner.error_distribution_to_total_by_robot().unstack().fillna(0)\n",
    "page_group_joiner_error_distribution_to_total"
   ]
  },
  {
   "cell_type": "code",
   "execution_count": null,
   "metadata": {},
   "outputs": [],
   "source": [
    "page_group_joiner_error_distribution_to_total.describe()"
   ]
  },
  {
   "cell_type": "code",
   "execution_count": null,
   "metadata": {},
   "outputs": [],
   "source": [
    "df = simplify_index(page_group_joiner_error_distribution_to_total)\n",
    "# df.T.iplot(kind='bar', theme='white')\n",
    "plot_bars(df.T)"
   ]
  },
  {
   "cell_type": "code",
   "execution_count": null,
   "metadata": {},
   "outputs": [],
   "source": [
    "account_group_joiner_error_distribution = account_group_joiner.error_distribution_by_robot().unstack().fillna(0)\n",
    "account_group_joiner_error_distribution"
   ]
  },
  {
   "cell_type": "code",
   "execution_count": null,
   "metadata": {},
   "outputs": [],
   "source": [
    "account_group_joiner_error_distribution.describe()"
   ]
  },
  {
   "cell_type": "code",
   "execution_count": null,
   "metadata": {},
   "outputs": [],
   "source": [
    "df = simplify_index(account_group_joiner_error_distribution)\n",
    "# df.T.iplot(kind='bar', theme='white')\n",
    "plot_bars(df.T)"
   ]
  },
  {
   "cell_type": "code",
   "execution_count": null,
   "metadata": {},
   "outputs": [],
   "source": [
    "subplots_box(df[['code34', 'code581', 'code35', 'code202', 'code0']])"
   ]
  },
  {
   "cell_type": "code",
   "execution_count": null,
   "metadata": {},
   "outputs": [],
   "source": [
    "account_group_joiner_error_distribution_to_total = account_group_joiner.error_distribution_to_total_by_robot().unstack().fillna(0)\n",
    "account_group_joiner_error_distribution_to_total"
   ]
  },
  {
   "cell_type": "code",
   "execution_count": null,
   "metadata": {},
   "outputs": [],
   "source": [
    "account_group_joiner_error_distribution_to_total.describe()"
   ]
  },
  {
   "cell_type": "code",
   "execution_count": null,
   "metadata": {},
   "outputs": [],
   "source": [
    "df = simplify_index(account_group_joiner_error_distribution_to_total)\n",
    "# df.T.iplot(kind='bar', theme='white')\n",
    "plot_bars(df.T)"
   ]
  },
  {
   "cell_type": "markdown",
   "metadata": {},
   "source": [
    "### 接下来我们处理Publishing相应的数据。"
   ]
  },
  {
   "cell_type": "code",
   "execution_count": null,
   "metadata": {},
   "outputs": [],
   "source": [
    "page_publishing_error_rate = page_publishing.error_rate_by_robot()\n",
    "page_publishing_error_rate"
   ]
  },
  {
   "cell_type": "code",
   "execution_count": null,
   "metadata": {},
   "outputs": [],
   "source": [
    "page_publishing_error_rate.describe()"
   ]
  },
  {
   "cell_type": "code",
   "execution_count": null,
   "metadata": {},
   "outputs": [],
   "source": [
    "df = simplify_index(page_publishing_error_rate)\n",
    "# df.iplot(kind='bar', theme='white', color='green')\n",
    "plot_bar(df, 'green')"
   ]
  },
  {
   "cell_type": "code",
   "execution_count": null,
   "metadata": {},
   "outputs": [],
   "source": [
    "plot_box(df, 'green')"
   ]
  },
  {
   "cell_type": "code",
   "execution_count": null,
   "metadata": {},
   "outputs": [],
   "source": [
    "df = data_normalized(df)\n",
    "df.describe()"
   ]
  },
  {
   "cell_type": "code",
   "execution_count": null,
   "metadata": {},
   "outputs": [],
   "source": [
    "# df.iplot(kind='bar', theme='white', color='green')\n",
    "plot_bar(df, 'green')"
   ]
  },
  {
   "cell_type": "code",
   "execution_count": null,
   "metadata": {},
   "outputs": [],
   "source": [
    "plot_box(df, 'green')"
   ]
  },
  {
   "cell_type": "code",
   "execution_count": null,
   "metadata": {},
   "outputs": [],
   "source": [
    "account_publishing_error_rate = account_publishing.error_rate_by_robot()\n",
    "account_publishing_error_rate"
   ]
  },
  {
   "cell_type": "code",
   "execution_count": null,
   "metadata": {},
   "outputs": [],
   "source": [
    "account_publishing_error_rate.describe()"
   ]
  },
  {
   "cell_type": "code",
   "execution_count": null,
   "metadata": {},
   "outputs": [],
   "source": [
    "df = simplify_index(account_publishing_error_rate)\n",
    "# df.iplot(kind='bar', theme='white', color='green')\n",
    "plot_bar(df, 'green')"
   ]
  },
  {
   "cell_type": "code",
   "execution_count": null,
   "metadata": {},
   "outputs": [],
   "source": [
    "plot_box(df, 'green')"
   ]
  },
  {
   "cell_type": "code",
   "execution_count": null,
   "metadata": {},
   "outputs": [],
   "source": [
    "df = data_normalized(df)\n",
    "df.describe()"
   ]
  },
  {
   "cell_type": "code",
   "execution_count": null,
   "metadata": {},
   "outputs": [],
   "source": [
    "# df.iplot(kind='bar', theme='white', color='green')\n",
    "plot_bar(df, 'green')"
   ]
  },
  {
   "cell_type": "code",
   "execution_count": null,
   "metadata": {},
   "outputs": [],
   "source": [
    "plot_box(df, 'green')"
   ]
  },
  {
   "cell_type": "code",
   "execution_count": null,
   "metadata": {},
   "outputs": [],
   "source": [
    "page_publishing_error_distribution = page_publishing.error_distribution_by_robot().unstack().fillna(0)\n",
    "page_publishing_error_distribution"
   ]
  },
  {
   "cell_type": "code",
   "execution_count": null,
   "metadata": {},
   "outputs": [],
   "source": [
    "page_publishing_error_distribution.describe()"
   ]
  },
  {
   "cell_type": "code",
   "execution_count": null,
   "metadata": {},
   "outputs": [],
   "source": [
    "df = simplify_index(page_publishing_error_distribution)\n",
    "# df.T.iplot(kind='bar', theme='white')\n",
    "plot_bars(df.T)"
   ]
  },
  {
   "cell_type": "code",
   "execution_count": null,
   "metadata": {},
   "outputs": [],
   "source": [
    "subplots_box(df[['code168', 'code55']])"
   ]
  },
  {
   "cell_type": "code",
   "execution_count": null,
   "metadata": {},
   "outputs": [],
   "source": [
    "page_publishing_error_distribution_to_total = page_publishing.error_distribution_to_total_by_robot().unstack().fillna(0)\n",
    "page_publishing_error_distribution_to_total"
   ]
  },
  {
   "cell_type": "code",
   "execution_count": null,
   "metadata": {},
   "outputs": [],
   "source": [
    "page_publishing_error_distribution_to_total.describe()"
   ]
  },
  {
   "cell_type": "code",
   "execution_count": null,
   "metadata": {},
   "outputs": [],
   "source": [
    "df = simplify_index(page_publishing_error_distribution_to_total)\n",
    "# df.T.iplot(kind='bar', theme='white')\n",
    "plot_bars(df.T)"
   ]
  },
  {
   "cell_type": "code",
   "execution_count": null,
   "metadata": {},
   "outputs": [],
   "source": [
    "subplots_box(df[['code168', 'code55']])"
   ]
  },
  {
   "cell_type": "code",
   "execution_count": null,
   "metadata": {},
   "outputs": [],
   "source": [
    "account_publishing_error_distribution = account_publishing.error_distribution_by_robot().unstack().fillna(0)\n",
    "account_publishing_error_distribution"
   ]
  },
  {
   "cell_type": "code",
   "execution_count": null,
   "metadata": {},
   "outputs": [],
   "source": [
    "account_publishing_error_distribution.describe()"
   ]
  },
  {
   "cell_type": "code",
   "execution_count": null,
   "metadata": {},
   "outputs": [],
   "source": [
    "df = simplify_index(account_publishing_error_distribution)\n",
    "# df.T.iplot(kind='bar', theme='white')\n",
    "plot_bars(df.T)"
   ]
  },
  {
   "cell_type": "code",
   "execution_count": null,
   "metadata": {},
   "outputs": [],
   "source": [
    "subplots_box(df[['code81', 'code168', 'code55']])"
   ]
  },
  {
   "cell_type": "code",
   "execution_count": null,
   "metadata": {},
   "outputs": [],
   "source": [
    "account_publishing_error_distribution_to_total = account_publishing.error_distribution_to_total_by_robot().unstack().fillna(0)\n",
    "account_publishing_error_distribution_to_total"
   ]
  },
  {
   "cell_type": "code",
   "execution_count": null,
   "metadata": {},
   "outputs": [],
   "source": [
    "account_publishing_error_distribution_to_total.describe()"
   ]
  },
  {
   "cell_type": "code",
   "execution_count": null,
   "metadata": {},
   "outputs": [],
   "source": [
    "df = simplify_index(account_publishing_error_distribution_to_total)\n",
    "# df.T.iplot(kind='bar', theme='white')\n",
    "plot_bars(df.T)"
   ]
  },
  {
   "cell_type": "code",
   "execution_count": null,
   "metadata": {},
   "outputs": [],
   "source": [
    "plot_box(df[['code81']], 'green')"
   ]
  },
  {
   "cell_type": "markdown",
   "metadata": {},
   "source": [
    "### 最后我们处理Bump相关的数据。"
   ]
  },
  {
   "cell_type": "code",
   "execution_count": null,
   "metadata": {},
   "outputs": [],
   "source": [
    "account_bump_error_rate = account_bump.error_rate_by_robot()\n",
    "account_bump_error_rate"
   ]
  },
  {
   "cell_type": "code",
   "execution_count": null,
   "metadata": {},
   "outputs": [],
   "source": [
    "account_bump_error_rate.describe()"
   ]
  },
  {
   "cell_type": "code",
   "execution_count": null,
   "metadata": {},
   "outputs": [],
   "source": [
    "df = simplify_index(account_bump_error_rate)\n",
    "# df.iplot(kind='bar', theme='white', color='blue')\n",
    "plot_bar(df)"
   ]
  },
  {
   "cell_type": "code",
   "execution_count": null,
   "metadata": {},
   "outputs": [],
   "source": [
    "plot_box(df)"
   ]
  },
  {
   "cell_type": "code",
   "execution_count": null,
   "metadata": {},
   "outputs": [],
   "source": [
    "df = data_normalized(df)\n",
    "df.describe()"
   ]
  },
  {
   "cell_type": "code",
   "execution_count": null,
   "metadata": {},
   "outputs": [],
   "source": [
    "# df.iplot(kind='bar', theme='white', color='blue')\n",
    "plot_bar(df)"
   ]
  },
  {
   "cell_type": "code",
   "execution_count": null,
   "metadata": {},
   "outputs": [],
   "source": [
    "plot_box(df)"
   ]
  },
  {
   "cell_type": "code",
   "execution_count": null,
   "metadata": {},
   "outputs": [],
   "source": [
    "account_bump_error_distribution = account_bump.error_distribution_by_robot().unstack().fillna(0)\n",
    "account_bump_error_distribution"
   ]
  },
  {
   "cell_type": "code",
   "execution_count": null,
   "metadata": {},
   "outputs": [],
   "source": [
    "account_bump_error_distribution.describe()"
   ]
  },
  {
   "cell_type": "code",
   "execution_count": null,
   "metadata": {},
   "outputs": [],
   "source": [
    "df = simplify_index(account_bump_error_distribution)\n",
    "# df.T.iplot(kind='bar', theme='white')\n",
    "plot_bars(df.T)"
   ]
  },
  {
   "cell_type": "code",
   "execution_count": null,
   "metadata": {},
   "outputs": [],
   "source": [
    "account_bump_error_distribution_to_total = account_bump.error_distribution_to_total_by_robot().unstack().fillna(0)\n",
    "account_bump_error_distribution_to_total"
   ]
  },
  {
   "cell_type": "code",
   "execution_count": null,
   "metadata": {},
   "outputs": [],
   "source": [
    "account_bump_error_distribution_to_total.describe()"
   ]
  },
  {
   "cell_type": "code",
   "execution_count": null,
   "metadata": {},
   "outputs": [],
   "source": [
    "df = simplify_index(account_bump_error_distribution_to_total)\n",
    "# df.T.iplot(kind='bar', theme='white')\n",
    "plot_bars(df.T)"
   ]
  },
  {
   "cell_type": "code",
   "execution_count": null,
   "metadata": {
    "scrolled": true
   },
   "outputs": [],
   "source": [
    "plot_box(df['code110'])"
   ]
  },
  {
   "cell_type": "code",
   "execution_count": null,
   "metadata": {},
   "outputs": [],
   "source": []
  }
 ],
 "metadata": {
  "kernelspec": {
   "display_name": "Python 3",
   "language": "python",
   "name": "python3"
  },
  "language_info": {
   "codemirror_mode": {
    "name": "ipython",
    "version": 3
   },
   "file_extension": ".py",
   "mimetype": "text/x-python",
   "name": "python",
   "nbconvert_exporter": "python",
   "pygments_lexer": "ipython3",
   "version": "3.8.5"
  }
 },
 "nbformat": 4,
 "nbformat_minor": 4
}
