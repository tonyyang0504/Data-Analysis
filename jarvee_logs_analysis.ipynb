{
 "cells": [
  {
   "cell_type": "code",
   "execution_count": 3,
   "metadata": {},
   "outputs": [],
   "source": [
    "from jarvee_logs import LogsProcess, GroupJoiner, Publishing, Tools, Bump\n",
    "import pandas as pd\n",
    "import matplotlib.pyplot as plt"
   ]
  },
  {
   "cell_type": "code",
   "execution_count": 30,
   "metadata": {},
   "outputs": [
    {
     "name": "stderr",
     "output_type": "stream",
     "text": [
      "<ipython-input-30-66ecc47be047>:1: DeprecationWarning: The default dtype for empty Series will be 'object' instead of 'float64' in a future version. Specify a dtype explicitly to silence this warning.\n",
      "  df = pd.Series()\n"
     ]
    },
    {
     "data": {
      "text/plain": [
       "Series([], Name: Error, dtype: float64)"
      ]
     },
     "execution_count": 30,
     "metadata": {},
     "output_type": "execute_result"
    }
   ],
   "source": [
    "df = pd.Series()\n",
    "df.rename('Error', inplace=True)"
   ]
  },
  {
   "cell_type": "code",
   "execution_count": 36,
   "metadata": {
    "scrolled": true
   },
   "outputs": [],
   "source": [
    "df1 = pd.DataFrame([2, 1])\n",
    "df2 = pd.DataFrame([3, None])"
   ]
  },
  {
   "cell_type": "code",
   "execution_count": 37,
   "metadata": {},
   "outputs": [
    {
     "data": {
      "text/html": [
       "<div>\n",
       "<style scoped>\n",
       "    .dataframe tbody tr th:only-of-type {\n",
       "        vertical-align: middle;\n",
       "    }\n",
       "\n",
       "    .dataframe tbody tr th {\n",
       "        vertical-align: top;\n",
       "    }\n",
       "\n",
       "    .dataframe thead th {\n",
       "        text-align: right;\n",
       "    }\n",
       "</style>\n",
       "<table border=\"1\" class=\"dataframe\">\n",
       "  <thead>\n",
       "    <tr style=\"text-align: right;\">\n",
       "      <th></th>\n",
       "      <th>0</th>\n",
       "    </tr>\n",
       "  </thead>\n",
       "  <tbody>\n",
       "    <tr>\n",
       "      <th>0</th>\n",
       "      <td>-1.0</td>\n",
       "    </tr>\n",
       "    <tr>\n",
       "      <th>1</th>\n",
       "      <td>NaN</td>\n",
       "    </tr>\n",
       "  </tbody>\n",
       "</table>\n",
       "</div>"
      ],
      "text/plain": [
       "     0\n",
       "0 -1.0\n",
       "1  NaN"
      ]
     },
     "execution_count": 37,
     "metadata": {},
     "output_type": "execute_result"
    }
   ],
   "source": [
    "df1 - df2"
   ]
  },
  {
   "cell_type": "code",
   "execution_count": 28,
   "metadata": {},
   "outputs": [
    {
     "data": {
      "text/plain": [
       "[1, 2, 3, 4, 5, 6]"
      ]
     },
     "execution_count": 28,
     "metadata": {},
     "output_type": "execute_result"
    }
   ],
   "source": [
    "file_list"
   ]
  },
  {
   "cell_type": "code",
   "execution_count": 5,
   "metadata": {},
   "outputs": [],
   "source": [
    "account_path = 'D:/data_analysis/account_logs'\n",
    "page_path = 'D:/data_analysis/page_logs'"
   ]
  },
  {
   "cell_type": "code",
   "execution_count": 6,
   "metadata": {},
   "outputs": [
    {
     "ename": "AttributeError",
     "evalue": "'str' object has no attribute 'Account'",
     "output_type": "error",
     "traceback": [
      "\u001b[1;31m---------------------------------------------------------------------------\u001b[0m",
      "\u001b[1;31mAttributeError\u001b[0m                            Traceback (most recent call last)",
      "\u001b[1;32m<ipython-input-6-b46d710f68b4>\u001b[0m in \u001b[0;36m<module>\u001b[1;34m\u001b[0m\n\u001b[1;32m----> 1\u001b[1;33m \u001b[0mpage_files\u001b[0m \u001b[1;33m=\u001b[0m \u001b[0mLogsProcess\u001b[0m\u001b[1;33m(\u001b[0m\u001b[0mpage_path\u001b[0m\u001b[1;33m)\u001b[0m\u001b[1;33m.\u001b[0m\u001b[0mfiles\u001b[0m\u001b[1;33m\u001b[0m\u001b[1;33m\u001b[0m\u001b[0m\n\u001b[0m\u001b[0;32m      2\u001b[0m \u001b[0maccount_files\u001b[0m \u001b[1;33m=\u001b[0m \u001b[0mLogsProcess\u001b[0m\u001b[1;33m(\u001b[0m\u001b[0maccount_path\u001b[0m\u001b[1;33m)\u001b[0m\u001b[1;33m.\u001b[0m\u001b[0mfiles\u001b[0m\u001b[1;33m\u001b[0m\u001b[1;33m\u001b[0m\u001b[0m\n",
      "\u001b[1;32mD:\\data_analysis\\jarvee_logs.py\u001b[0m in \u001b[0;36m__init__\u001b[1;34m(self, data)\u001b[0m\n\u001b[0;32m      7\u001b[0m     \u001b[1;32mdef\u001b[0m \u001b[0m__init__\u001b[0m\u001b[1;33m(\u001b[0m\u001b[0mself\u001b[0m\u001b[1;33m,\u001b[0m \u001b[0mdata\u001b[0m\u001b[1;33m)\u001b[0m\u001b[1;33m:\u001b[0m\u001b[1;33m\u001b[0m\u001b[1;33m\u001b[0m\u001b[0m\n\u001b[0;32m      8\u001b[0m         \u001b[0mself\u001b[0m\u001b[1;33m.\u001b[0m\u001b[0mdata\u001b[0m \u001b[1;33m=\u001b[0m \u001b[0mdata\u001b[0m\u001b[1;33m\u001b[0m\u001b[1;33m\u001b[0m\u001b[0m\n\u001b[1;32m----> 9\u001b[1;33m         \u001b[0mself\u001b[0m\u001b[1;33m.\u001b[0m\u001b[0maccount\u001b[0m \u001b[1;33m=\u001b[0m \u001b[0mself\u001b[0m\u001b[1;33m.\u001b[0m\u001b[0mdata\u001b[0m\u001b[1;33m.\u001b[0m\u001b[0mAccount\u001b[0m\u001b[1;33m.\u001b[0m\u001b[0munique\u001b[0m\u001b[1;33m(\u001b[0m\u001b[1;33m)\u001b[0m\u001b[1;33m\u001b[0m\u001b[1;33m\u001b[0m\u001b[0m\n\u001b[0m\u001b[0;32m     10\u001b[0m         \u001b[1;32mif\u001b[0m \u001b[1;34m'Robot'\u001b[0m \u001b[1;32min\u001b[0m \u001b[0mself\u001b[0m\u001b[1;33m.\u001b[0m\u001b[0mdata\u001b[0m\u001b[1;33m:\u001b[0m\u001b[1;33m\u001b[0m\u001b[1;33m\u001b[0m\u001b[0m\n\u001b[0;32m     11\u001b[0m             \u001b[0mself\u001b[0m\u001b[1;33m.\u001b[0m\u001b[0mrobot\u001b[0m \u001b[1;33m=\u001b[0m \u001b[0mself\u001b[0m\u001b[1;33m.\u001b[0m\u001b[0mdata\u001b[0m\u001b[1;33m.\u001b[0m\u001b[0mRobot\u001b[0m\u001b[1;33m.\u001b[0m\u001b[0munique\u001b[0m\u001b[1;33m(\u001b[0m\u001b[1;33m)\u001b[0m\u001b[1;33m\u001b[0m\u001b[1;33m\u001b[0m\u001b[0m\n",
      "\u001b[1;31mAttributeError\u001b[0m: 'str' object has no attribute 'Account'"
     ]
    }
   ],
   "source": [
    "page_files = LogsProcess(page_path).files\n",
    "account_files = LogsProcess(account_path).files"
   ]
  },
  {
   "cell_type": "code",
   "execution_count": 7,
   "metadata": {},
   "outputs": [
    {
     "ename": "NameError",
     "evalue": "name 'page_files' is not defined",
     "output_type": "error",
     "traceback": [
      "\u001b[1;31m---------------------------------------------------------------------------\u001b[0m",
      "\u001b[1;31mNameError\u001b[0m                                 Traceback (most recent call last)",
      "\u001b[1;32m<ipython-input-7-be63a1997c6d>\u001b[0m in \u001b[0;36m<module>\u001b[1;34m\u001b[0m\n\u001b[1;32m----> 1\u001b[1;33m \u001b[0mpage_files\u001b[0m\u001b[1;33m\u001b[0m\u001b[1;33m\u001b[0m\u001b[0m\n\u001b[0m",
      "\u001b[1;31mNameError\u001b[0m: name 'page_files' is not defined"
     ]
    }
   ],
   "source": [
    "page_files"
   ]
  },
  {
   "cell_type": "code",
   "execution_count": 12,
   "metadata": {},
   "outputs": [
    {
     "data": {
      "text/plain": [
       "['151.106.35.202 U37_account_post_and_bump_tony.csv',\n",
       " '151.106.35.202 U38_account_post_and_bump_tony.csv',\n",
       " '151.106.35.202 U40_account_post_and_bump_tony.csv',\n",
       " '151.106.35.202 U41_account_post_and_bump_tony.csv',\n",
       " '151.106.35.221 U37_account_post_and_bump_tony.csv',\n",
       " '151.106.35.221 U38_account_post_and_bump_tony.csv',\n",
       " '151.106.35.221 U40_account_post_and_bump_tony.csv',\n",
       " '151.106.35.221 U41_account_post_and_bump_tony.csv',\n",
       " '151.106.41.12_account_post_and_bump_cary.txt',\n",
       " '151.106.41.4 u10r5_account_post_and_bump_cary.txt',\n",
       " '151.106.42.128Martin-R15_account_post_and_bump_aidan.csv',\n",
       " '151.106.42.169 g2_account_post_and_bump_cary.csv',\n",
       " '151.106.42.169_account_post_and_bump_cary.csv',\n",
       " '151.106.42.23 U36_account_post_and_bump_tony.csv',\n",
       " '151.106.42.23 U38_account_post_and_bump_tony.csv',\n",
       " '151.106.42.23 U39_account_post_and_bump_tony.csv',\n",
       " '151.106.42.23 U40_account_post_and_bump_tony.csv',\n",
       " '155 U31_account_post_and_bump_aaron.csv']"
      ]
     },
     "execution_count": 12,
     "metadata": {},
     "output_type": "execute_result"
    }
   ],
   "source": [
    "account_files"
   ]
  },
  {
   "cell_type": "code",
   "execution_count": 41,
   "metadata": {},
   "outputs": [],
   "source": [
    "page_group_joiner = GroupJoiner(page_path)\n",
    "page_publishing = Publishing(page_path)\n",
    "page_bump = Bump(page_path)\n",
    "page_tools = Tools(page_path)\n",
    "\n",
    "account_group_joiner = GroupJoiner(account_path)\n",
    "account_publishing = Publishing(account_path)\n",
    "account_bump = Bump(account_path)\n",
    "account_tools = Tools(account_path)"
   ]
  },
  {
   "cell_type": "code",
   "execution_count": 42,
   "metadata": {},
   "outputs": [
    {
     "data": {
      "text/html": [
       "<div>\n",
       "<style scoped>\n",
       "    .dataframe tbody tr th:only-of-type {\n",
       "        vertical-align: middle;\n",
       "    }\n",
       "\n",
       "    .dataframe tbody tr th {\n",
       "        vertical-align: top;\n",
       "    }\n",
       "\n",
       "    .dataframe thead th {\n",
       "        text-align: right;\n",
       "    }\n",
       "</style>\n",
       "<table border=\"1\" class=\"dataframe\">\n",
       "  <thead>\n",
       "    <tr style=\"text-align: right;\">\n",
       "      <th></th>\n",
       "      <th>Number of Groups</th>\n",
       "      <th>Number of Destinations</th>\n",
       "      <th>Destinations/Groups</th>\n",
       "    </tr>\n",
       "  </thead>\n",
       "  <tbody>\n",
       "    <tr>\n",
       "      <th>151.106.35.202 U43</th>\n",
       "      <td>1232</td>\n",
       "      <td>946.0</td>\n",
       "      <td>0.767857</td>\n",
       "    </tr>\n",
       "    <tr>\n",
       "      <th>151.106.35.202 U44</th>\n",
       "      <td>3210</td>\n",
       "      <td>1624.0</td>\n",
       "      <td>0.505919</td>\n",
       "    </tr>\n",
       "    <tr>\n",
       "      <th>151.106.35.221 U43</th>\n",
       "      <td>1628</td>\n",
       "      <td>1672.0</td>\n",
       "      <td>1.027027</td>\n",
       "    </tr>\n",
       "    <tr>\n",
       "      <th>151.106.35.221 U44</th>\n",
       "      <td>3760</td>\n",
       "      <td>1785.0</td>\n",
       "      <td>0.474734</td>\n",
       "    </tr>\n",
       "    <tr>\n",
       "      <th>151.106.42.145 GEN R49</th>\n",
       "      <td>1882</td>\n",
       "      <td>1528.0</td>\n",
       "      <td>0.811902</td>\n",
       "    </tr>\n",
       "    <tr>\n",
       "      <th>151.106.42.148 zhuyeA1</th>\n",
       "      <td>1024</td>\n",
       "      <td>559.0</td>\n",
       "      <td>0.545898</td>\n",
       "    </tr>\n",
       "    <tr>\n",
       "      <th>151.106.42.48 Kim R34</th>\n",
       "      <td>1670</td>\n",
       "      <td>0.0</td>\n",
       "      <td>0.000000</td>\n",
       "    </tr>\n",
       "    <tr>\n",
       "      <th>18 U45-10</th>\n",
       "      <td>680</td>\n",
       "      <td>252.0</td>\n",
       "      <td>0.370588</td>\n",
       "    </tr>\n",
       "    <tr>\n",
       "      <th>b8 151.106.41.12</th>\n",
       "      <td>8443</td>\n",
       "      <td>647.0</td>\n",
       "      <td>0.076632</td>\n",
       "    </tr>\n",
       "  </tbody>\n",
       "</table>\n",
       "</div>"
      ],
      "text/plain": [
       "                        Number of Groups  Number of Destinations  \\\n",
       "151.106.35.202 U43                  1232                   946.0   \n",
       "151.106.35.202 U44                  3210                  1624.0   \n",
       "151.106.35.221 U43                  1628                  1672.0   \n",
       "151.106.35.221 U44                  3760                  1785.0   \n",
       "151.106.42.145 GEN R49              1882                  1528.0   \n",
       "151.106.42.148 zhuyeA1              1024                   559.0   \n",
       "151.106.42.48 Kim R34               1670                     0.0   \n",
       "18 U45-10                            680                   252.0   \n",
       "b8 151.106.41.12                    8443                   647.0   \n",
       "\n",
       "                        Destinations/Groups  \n",
       "151.106.35.202 U43                 0.767857  \n",
       "151.106.35.202 U44                 0.505919  \n",
       "151.106.35.221 U43                 1.027027  \n",
       "151.106.35.221 U44                 0.474734  \n",
       "151.106.42.145 GEN R49             0.811902  \n",
       "151.106.42.148 zhuyeA1             0.545898  \n",
       "151.106.42.48 Kim R34              0.000000  \n",
       "18 U45-10                          0.370588  \n",
       "b8 151.106.41.12                   0.076632  "
      ]
     },
     "execution_count": 42,
     "metadata": {},
     "output_type": "execute_result"
    }
   ],
   "source": [
    "page_group_joiner_publishing = page_tools.group_joiner_publishing_concat_by_robot()\n",
    "page_group_joiner_publishing"
   ]
  },
  {
   "cell_type": "code",
   "execution_count": 43,
   "metadata": {},
   "outputs": [
    {
     "data": {
      "text/html": [
       "<div>\n",
       "<style scoped>\n",
       "    .dataframe tbody tr th:only-of-type {\n",
       "        vertical-align: middle;\n",
       "    }\n",
       "\n",
       "    .dataframe tbody tr th {\n",
       "        vertical-align: top;\n",
       "    }\n",
       "\n",
       "    .dataframe thead th {\n",
       "        text-align: right;\n",
       "    }\n",
       "</style>\n",
       "<table border=\"1\" class=\"dataframe\">\n",
       "  <thead>\n",
       "    <tr style=\"text-align: right;\">\n",
       "      <th></th>\n",
       "      <th>Number of Groups</th>\n",
       "      <th>Number of Destinations</th>\n",
       "      <th>Destinations/Groups</th>\n",
       "    </tr>\n",
       "  </thead>\n",
       "  <tbody>\n",
       "    <tr>\n",
       "      <th>count</th>\n",
       "      <td>9.000000</td>\n",
       "      <td>9.000000</td>\n",
       "      <td>9.000000</td>\n",
       "    </tr>\n",
       "    <tr>\n",
       "      <th>mean</th>\n",
       "      <td>2614.333333</td>\n",
       "      <td>1001.444444</td>\n",
       "      <td>0.508951</td>\n",
       "    </tr>\n",
       "    <tr>\n",
       "      <th>std</th>\n",
       "      <td>2403.729082</td>\n",
       "      <td>672.445186</td>\n",
       "      <td>0.334446</td>\n",
       "    </tr>\n",
       "    <tr>\n",
       "      <th>min</th>\n",
       "      <td>680.000000</td>\n",
       "      <td>0.000000</td>\n",
       "      <td>0.000000</td>\n",
       "    </tr>\n",
       "    <tr>\n",
       "      <th>25%</th>\n",
       "      <td>1232.000000</td>\n",
       "      <td>559.000000</td>\n",
       "      <td>0.370588</td>\n",
       "    </tr>\n",
       "    <tr>\n",
       "      <th>50%</th>\n",
       "      <td>1670.000000</td>\n",
       "      <td>946.000000</td>\n",
       "      <td>0.505919</td>\n",
       "    </tr>\n",
       "    <tr>\n",
       "      <th>75%</th>\n",
       "      <td>3210.000000</td>\n",
       "      <td>1624.000000</td>\n",
       "      <td>0.767857</td>\n",
       "    </tr>\n",
       "    <tr>\n",
       "      <th>max</th>\n",
       "      <td>8443.000000</td>\n",
       "      <td>1785.000000</td>\n",
       "      <td>1.027027</td>\n",
       "    </tr>\n",
       "  </tbody>\n",
       "</table>\n",
       "</div>"
      ],
      "text/plain": [
       "       Number of Groups  Number of Destinations  Destinations/Groups\n",
       "count          9.000000                9.000000             9.000000\n",
       "mean        2614.333333             1001.444444             0.508951\n",
       "std         2403.729082              672.445186             0.334446\n",
       "min          680.000000                0.000000             0.000000\n",
       "25%         1232.000000              559.000000             0.370588\n",
       "50%         1670.000000              946.000000             0.505919\n",
       "75%         3210.000000             1624.000000             0.767857\n",
       "max         8443.000000             1785.000000             1.027027"
      ]
     },
     "execution_count": 43,
     "metadata": {},
     "output_type": "execute_result"
    }
   ],
   "source": [
    "page_group_joiner_publishing.describe()"
   ]
  },
  {
   "cell_type": "code",
   "execution_count": 44,
   "metadata": {},
   "outputs": [
    {
     "data": {
      "text/html": [
       "<div>\n",
       "<style scoped>\n",
       "    .dataframe tbody tr th:only-of-type {\n",
       "        vertical-align: middle;\n",
       "    }\n",
       "\n",
       "    .dataframe tbody tr th {\n",
       "        vertical-align: top;\n",
       "    }\n",
       "\n",
       "    .dataframe thead th {\n",
       "        text-align: right;\n",
       "    }\n",
       "</style>\n",
       "<table border=\"1\" class=\"dataframe\">\n",
       "  <thead>\n",
       "    <tr style=\"text-align: right;\">\n",
       "      <th></th>\n",
       "      <th>Number of Groups</th>\n",
       "      <th>Number of Destinations</th>\n",
       "      <th>Destinations/Groups</th>\n",
       "    </tr>\n",
       "    <tr>\n",
       "      <th>Robot</th>\n",
       "      <th></th>\n",
       "      <th></th>\n",
       "      <th></th>\n",
       "    </tr>\n",
       "  </thead>\n",
       "  <tbody>\n",
       "    <tr>\n",
       "      <th>151.106.35.202 U37</th>\n",
       "      <td>6501</td>\n",
       "      <td>4856</td>\n",
       "      <td>0.746962</td>\n",
       "    </tr>\n",
       "    <tr>\n",
       "      <th>151.106.35.202 U38</th>\n",
       "      <td>6726</td>\n",
       "      <td>4056</td>\n",
       "      <td>0.603033</td>\n",
       "    </tr>\n",
       "    <tr>\n",
       "      <th>151.106.35.202 U40</th>\n",
       "      <td>6708</td>\n",
       "      <td>4637</td>\n",
       "      <td>0.691264</td>\n",
       "    </tr>\n",
       "    <tr>\n",
       "      <th>151.106.35.221 U37</th>\n",
       "      <td>6579</td>\n",
       "      <td>4958</td>\n",
       "      <td>0.753610</td>\n",
       "    </tr>\n",
       "    <tr>\n",
       "      <th>151.106.35.221 U38</th>\n",
       "      <td>6709</td>\n",
       "      <td>5304</td>\n",
       "      <td>0.790580</td>\n",
       "    </tr>\n",
       "    <tr>\n",
       "      <th>151.106.35.221 U40</th>\n",
       "      <td>7304</td>\n",
       "      <td>4720</td>\n",
       "      <td>0.646221</td>\n",
       "    </tr>\n",
       "    <tr>\n",
       "      <th>151.106.41.12</th>\n",
       "      <td>6206</td>\n",
       "      <td>5318</td>\n",
       "      <td>0.856913</td>\n",
       "    </tr>\n",
       "    <tr>\n",
       "      <th>151.106.41.12 b6</th>\n",
       "      <td>6630</td>\n",
       "      <td>1776</td>\n",
       "      <td>0.267873</td>\n",
       "    </tr>\n",
       "    <tr>\n",
       "      <th>151.106.41.4 u10r5</th>\n",
       "      <td>6531</td>\n",
       "      <td>2615</td>\n",
       "      <td>0.400398</td>\n",
       "    </tr>\n",
       "    <tr>\n",
       "      <th>151.106.42.128Martin-R15</th>\n",
       "      <td>7425</td>\n",
       "      <td>5556</td>\n",
       "      <td>0.748283</td>\n",
       "    </tr>\n",
       "    <tr>\n",
       "      <th>151.106.42.169</th>\n",
       "      <td>4475</td>\n",
       "      <td>2664</td>\n",
       "      <td>0.595307</td>\n",
       "    </tr>\n",
       "    <tr>\n",
       "      <th>151.106.42.169 g2</th>\n",
       "      <td>4992</td>\n",
       "      <td>2404</td>\n",
       "      <td>0.481571</td>\n",
       "    </tr>\n",
       "    <tr>\n",
       "      <th>151.106.42.23 U36</th>\n",
       "      <td>5762</td>\n",
       "      <td>3691</td>\n",
       "      <td>0.640576</td>\n",
       "    </tr>\n",
       "    <tr>\n",
       "      <th>151.106.42.23 U38</th>\n",
       "      <td>6359</td>\n",
       "      <td>3025</td>\n",
       "      <td>0.475704</td>\n",
       "    </tr>\n",
       "    <tr>\n",
       "      <th>151.106.42.23 U39</th>\n",
       "      <td>6554</td>\n",
       "      <td>3604</td>\n",
       "      <td>0.549893</td>\n",
       "    </tr>\n",
       "    <tr>\n",
       "      <th>155 U31</th>\n",
       "      <td>6667</td>\n",
       "      <td>5140</td>\n",
       "      <td>0.770961</td>\n",
       "    </tr>\n",
       "  </tbody>\n",
       "</table>\n",
       "</div>"
      ],
      "text/plain": [
       "                          Number of Groups  Number of Destinations  \\\n",
       "Robot                                                                \n",
       "151.106.35.202 U37                    6501                    4856   \n",
       "151.106.35.202 U38                    6726                    4056   \n",
       "151.106.35.202 U40                    6708                    4637   \n",
       "151.106.35.221 U37                    6579                    4958   \n",
       "151.106.35.221 U38                    6709                    5304   \n",
       "151.106.35.221 U40                    7304                    4720   \n",
       "151.106.41.12                         6206                    5318   \n",
       "151.106.41.12 b6                      6630                    1776   \n",
       "151.106.41.4 u10r5                    6531                    2615   \n",
       "151.106.42.128Martin-R15              7425                    5556   \n",
       "151.106.42.169                        4475                    2664   \n",
       "151.106.42.169 g2                     4992                    2404   \n",
       "151.106.42.23 U36                     5762                    3691   \n",
       "151.106.42.23 U38                     6359                    3025   \n",
       "151.106.42.23 U39                     6554                    3604   \n",
       "155 U31                               6667                    5140   \n",
       "\n",
       "                          Destinations/Groups  \n",
       "Robot                                          \n",
       "151.106.35.202 U37                   0.746962  \n",
       "151.106.35.202 U38                   0.603033  \n",
       "151.106.35.202 U40                   0.691264  \n",
       "151.106.35.221 U37                   0.753610  \n",
       "151.106.35.221 U38                   0.790580  \n",
       "151.106.35.221 U40                   0.646221  \n",
       "151.106.41.12                        0.856913  \n",
       "151.106.41.12 b6                     0.267873  \n",
       "151.106.41.4 u10r5                   0.400398  \n",
       "151.106.42.128Martin-R15             0.748283  \n",
       "151.106.42.169                       0.595307  \n",
       "151.106.42.169 g2                    0.481571  \n",
       "151.106.42.23 U36                    0.640576  \n",
       "151.106.42.23 U38                    0.475704  \n",
       "151.106.42.23 U39                    0.549893  \n",
       "155 U31                              0.770961  "
      ]
     },
     "execution_count": 44,
     "metadata": {},
     "output_type": "execute_result"
    }
   ],
   "source": [
    "account_group_joiner_publishing = account_tools.group_joiner_publishing_concat_by_robot()\n",
    "account_group_joiner_publishing"
   ]
  },
  {
   "cell_type": "code",
   "execution_count": 45,
   "metadata": {},
   "outputs": [
    {
     "data": {
      "text/html": [
       "<div>\n",
       "<style scoped>\n",
       "    .dataframe tbody tr th:only-of-type {\n",
       "        vertical-align: middle;\n",
       "    }\n",
       "\n",
       "    .dataframe tbody tr th {\n",
       "        vertical-align: top;\n",
       "    }\n",
       "\n",
       "    .dataframe thead th {\n",
       "        text-align: right;\n",
       "    }\n",
       "</style>\n",
       "<table border=\"1\" class=\"dataframe\">\n",
       "  <thead>\n",
       "    <tr style=\"text-align: right;\">\n",
       "      <th></th>\n",
       "      <th>Number of Groups</th>\n",
       "      <th>Number of Destinations</th>\n",
       "      <th>Destinations/Groups</th>\n",
       "    </tr>\n",
       "  </thead>\n",
       "  <tbody>\n",
       "    <tr>\n",
       "      <th>count</th>\n",
       "      <td>16.000000</td>\n",
       "      <td>16.000000</td>\n",
       "      <td>16.000000</td>\n",
       "    </tr>\n",
       "    <tr>\n",
       "      <th>mean</th>\n",
       "      <td>6383.000000</td>\n",
       "      <td>4020.250000</td>\n",
       "      <td>0.626197</td>\n",
       "    </tr>\n",
       "    <tr>\n",
       "      <th>std</th>\n",
       "      <td>752.843321</td>\n",
       "      <td>1214.604325</td>\n",
       "      <td>0.159589</td>\n",
       "    </tr>\n",
       "    <tr>\n",
       "      <th>min</th>\n",
       "      <td>4475.000000</td>\n",
       "      <td>1776.000000</td>\n",
       "      <td>0.267873</td>\n",
       "    </tr>\n",
       "    <tr>\n",
       "      <th>25%</th>\n",
       "      <td>6320.750000</td>\n",
       "      <td>2934.750000</td>\n",
       "      <td>0.532813</td>\n",
       "    </tr>\n",
       "    <tr>\n",
       "      <th>50%</th>\n",
       "      <td>6566.500000</td>\n",
       "      <td>4346.500000</td>\n",
       "      <td>0.643399</td>\n",
       "    </tr>\n",
       "    <tr>\n",
       "      <th>75%</th>\n",
       "      <td>6708.250000</td>\n",
       "      <td>5003.500000</td>\n",
       "      <td>0.749615</td>\n",
       "    </tr>\n",
       "    <tr>\n",
       "      <th>max</th>\n",
       "      <td>7425.000000</td>\n",
       "      <td>5556.000000</td>\n",
       "      <td>0.856913</td>\n",
       "    </tr>\n",
       "  </tbody>\n",
       "</table>\n",
       "</div>"
      ],
      "text/plain": [
       "       Number of Groups  Number of Destinations  Destinations/Groups\n",
       "count         16.000000               16.000000            16.000000\n",
       "mean        6383.000000             4020.250000             0.626197\n",
       "std          752.843321             1214.604325             0.159589\n",
       "min         4475.000000             1776.000000             0.267873\n",
       "25%         6320.750000             2934.750000             0.532813\n",
       "50%         6566.500000             4346.500000             0.643399\n",
       "75%         6708.250000             5003.500000             0.749615\n",
       "max         7425.000000             5556.000000             0.856913"
      ]
     },
     "execution_count": 45,
     "metadata": {},
     "output_type": "execute_result"
    }
   ],
   "source": [
    "account_group_joiner_publishing.describe()"
   ]
  },
  {
   "cell_type": "code",
   "execution_count": 46,
   "metadata": {},
   "outputs": [
    {
     "data": {
      "text/html": [
       "<div>\n",
       "<style scoped>\n",
       "    .dataframe tbody tr th:only-of-type {\n",
       "        vertical-align: middle;\n",
       "    }\n",
       "\n",
       "    .dataframe tbody tr th {\n",
       "        vertical-align: top;\n",
       "    }\n",
       "\n",
       "    .dataframe thead th {\n",
       "        text-align: right;\n",
       "    }\n",
       "</style>\n",
       "<table border=\"1\" class=\"dataframe\">\n",
       "  <thead>\n",
       "    <tr style=\"text-align: right;\">\n",
       "      <th></th>\n",
       "      <th>Number of Groups</th>\n",
       "      <th>Number of Bumps</th>\n",
       "      <th>Bumps/Groups</th>\n",
       "    </tr>\n",
       "    <tr>\n",
       "      <th>Robot</th>\n",
       "      <th></th>\n",
       "      <th></th>\n",
       "      <th></th>\n",
       "    </tr>\n",
       "  </thead>\n",
       "  <tbody>\n",
       "    <tr>\n",
       "      <th>151.106.35.202 U37</th>\n",
       "      <td>6501</td>\n",
       "      <td>1692</td>\n",
       "      <td>0.260268</td>\n",
       "    </tr>\n",
       "    <tr>\n",
       "      <th>151.106.35.202 U38</th>\n",
       "      <td>6726</td>\n",
       "      <td>1069</td>\n",
       "      <td>0.158935</td>\n",
       "    </tr>\n",
       "    <tr>\n",
       "      <th>151.106.35.202 U40</th>\n",
       "      <td>6708</td>\n",
       "      <td>2060</td>\n",
       "      <td>0.307096</td>\n",
       "    </tr>\n",
       "    <tr>\n",
       "      <th>151.106.35.221 U37</th>\n",
       "      <td>6579</td>\n",
       "      <td>1690</td>\n",
       "      <td>0.256878</td>\n",
       "    </tr>\n",
       "    <tr>\n",
       "      <th>151.106.35.221 U38</th>\n",
       "      <td>6709</td>\n",
       "      <td>1815</td>\n",
       "      <td>0.270532</td>\n",
       "    </tr>\n",
       "    <tr>\n",
       "      <th>151.106.35.221 U40</th>\n",
       "      <td>7304</td>\n",
       "      <td>1810</td>\n",
       "      <td>0.247809</td>\n",
       "    </tr>\n",
       "    <tr>\n",
       "      <th>151.106.41.12</th>\n",
       "      <td>6206</td>\n",
       "      <td>1750</td>\n",
       "      <td>0.281985</td>\n",
       "    </tr>\n",
       "    <tr>\n",
       "      <th>151.106.41.12 b6</th>\n",
       "      <td>6630</td>\n",
       "      <td>738</td>\n",
       "      <td>0.111312</td>\n",
       "    </tr>\n",
       "    <tr>\n",
       "      <th>151.106.41.4 u10r5</th>\n",
       "      <td>6531</td>\n",
       "      <td>951</td>\n",
       "      <td>0.145613</td>\n",
       "    </tr>\n",
       "    <tr>\n",
       "      <th>151.106.42.128Martin-R15</th>\n",
       "      <td>7425</td>\n",
       "      <td>3986</td>\n",
       "      <td>0.536835</td>\n",
       "    </tr>\n",
       "    <tr>\n",
       "      <th>151.106.42.169</th>\n",
       "      <td>4475</td>\n",
       "      <td>634</td>\n",
       "      <td>0.141676</td>\n",
       "    </tr>\n",
       "    <tr>\n",
       "      <th>151.106.42.169 g2</th>\n",
       "      <td>4992</td>\n",
       "      <td>628</td>\n",
       "      <td>0.125801</td>\n",
       "    </tr>\n",
       "    <tr>\n",
       "      <th>151.106.42.23 U36</th>\n",
       "      <td>5762</td>\n",
       "      <td>1237</td>\n",
       "      <td>0.214682</td>\n",
       "    </tr>\n",
       "    <tr>\n",
       "      <th>151.106.42.23 U38</th>\n",
       "      <td>6359</td>\n",
       "      <td>784</td>\n",
       "      <td>0.123290</td>\n",
       "    </tr>\n",
       "    <tr>\n",
       "      <th>151.106.42.23 U39</th>\n",
       "      <td>6554</td>\n",
       "      <td>1242</td>\n",
       "      <td>0.189503</td>\n",
       "    </tr>\n",
       "    <tr>\n",
       "      <th>155 U31</th>\n",
       "      <td>6667</td>\n",
       "      <td>2187</td>\n",
       "      <td>0.328034</td>\n",
       "    </tr>\n",
       "  </tbody>\n",
       "</table>\n",
       "</div>"
      ],
      "text/plain": [
       "                          Number of Groups  Number of Bumps  Bumps/Groups\n",
       "Robot                                                                    \n",
       "151.106.35.202 U37                    6501             1692      0.260268\n",
       "151.106.35.202 U38                    6726             1069      0.158935\n",
       "151.106.35.202 U40                    6708             2060      0.307096\n",
       "151.106.35.221 U37                    6579             1690      0.256878\n",
       "151.106.35.221 U38                    6709             1815      0.270532\n",
       "151.106.35.221 U40                    7304             1810      0.247809\n",
       "151.106.41.12                         6206             1750      0.281985\n",
       "151.106.41.12 b6                      6630              738      0.111312\n",
       "151.106.41.4 u10r5                    6531              951      0.145613\n",
       "151.106.42.128Martin-R15              7425             3986      0.536835\n",
       "151.106.42.169                        4475              634      0.141676\n",
       "151.106.42.169 g2                     4992              628      0.125801\n",
       "151.106.42.23 U36                     5762             1237      0.214682\n",
       "151.106.42.23 U38                     6359              784      0.123290\n",
       "151.106.42.23 U39                     6554             1242      0.189503\n",
       "155 U31                               6667             2187      0.328034"
      ]
     },
     "execution_count": 46,
     "metadata": {},
     "output_type": "execute_result"
    }
   ],
   "source": [
    "account_group_joiner_bump = account_tools.group_joiner_bump_concat_by_robot()\n",
    "account_group_joiner_bump"
   ]
  },
  {
   "cell_type": "code",
   "execution_count": 47,
   "metadata": {},
   "outputs": [
    {
     "data": {
      "text/html": [
       "<div>\n",
       "<style scoped>\n",
       "    .dataframe tbody tr th:only-of-type {\n",
       "        vertical-align: middle;\n",
       "    }\n",
       "\n",
       "    .dataframe tbody tr th {\n",
       "        vertical-align: top;\n",
       "    }\n",
       "\n",
       "    .dataframe thead th {\n",
       "        text-align: right;\n",
       "    }\n",
       "</style>\n",
       "<table border=\"1\" class=\"dataframe\">\n",
       "  <thead>\n",
       "    <tr style=\"text-align: right;\">\n",
       "      <th></th>\n",
       "      <th>Number of Groups</th>\n",
       "      <th>Number of Bumps</th>\n",
       "      <th>Bumps/Groups</th>\n",
       "    </tr>\n",
       "  </thead>\n",
       "  <tbody>\n",
       "    <tr>\n",
       "      <th>count</th>\n",
       "      <td>16.000000</td>\n",
       "      <td>16.000000</td>\n",
       "      <td>16.000000</td>\n",
       "    </tr>\n",
       "    <tr>\n",
       "      <th>mean</th>\n",
       "      <td>6383.000000</td>\n",
       "      <td>1517.062500</td>\n",
       "      <td>0.231266</td>\n",
       "    </tr>\n",
       "    <tr>\n",
       "      <th>std</th>\n",
       "      <td>752.843321</td>\n",
       "      <td>837.394011</td>\n",
       "      <td>0.107752</td>\n",
       "    </tr>\n",
       "    <tr>\n",
       "      <th>min</th>\n",
       "      <td>4475.000000</td>\n",
       "      <td>628.000000</td>\n",
       "      <td>0.111312</td>\n",
       "    </tr>\n",
       "    <tr>\n",
       "      <th>25%</th>\n",
       "      <td>6320.750000</td>\n",
       "      <td>909.250000</td>\n",
       "      <td>0.144629</td>\n",
       "    </tr>\n",
       "    <tr>\n",
       "      <th>50%</th>\n",
       "      <td>6566.500000</td>\n",
       "      <td>1466.000000</td>\n",
       "      <td>0.231246</td>\n",
       "    </tr>\n",
       "    <tr>\n",
       "      <th>75%</th>\n",
       "      <td>6708.250000</td>\n",
       "      <td>1811.250000</td>\n",
       "      <td>0.273395</td>\n",
       "    </tr>\n",
       "    <tr>\n",
       "      <th>max</th>\n",
       "      <td>7425.000000</td>\n",
       "      <td>3986.000000</td>\n",
       "      <td>0.536835</td>\n",
       "    </tr>\n",
       "  </tbody>\n",
       "</table>\n",
       "</div>"
      ],
      "text/plain": [
       "       Number of Groups  Number of Bumps  Bumps/Groups\n",
       "count         16.000000        16.000000     16.000000\n",
       "mean        6383.000000      1517.062500      0.231266\n",
       "std          752.843321       837.394011      0.107752\n",
       "min         4475.000000       628.000000      0.111312\n",
       "25%         6320.750000       909.250000      0.144629\n",
       "50%         6566.500000      1466.000000      0.231246\n",
       "75%         6708.250000      1811.250000      0.273395\n",
       "max         7425.000000      3986.000000      0.536835"
      ]
     },
     "execution_count": 47,
     "metadata": {},
     "output_type": "execute_result"
    }
   ],
   "source": [
    "account_group_joiner_bump.describe()"
   ]
  },
  {
   "cell_type": "code",
   "execution_count": 48,
   "metadata": {},
   "outputs": [
    {
     "data": {
      "text/html": [
       "<div>\n",
       "<style scoped>\n",
       "    .dataframe tbody tr th:only-of-type {\n",
       "        vertical-align: middle;\n",
       "    }\n",
       "\n",
       "    .dataframe tbody tr th {\n",
       "        vertical-align: top;\n",
       "    }\n",
       "\n",
       "    .dataframe thead th {\n",
       "        text-align: right;\n",
       "    }\n",
       "</style>\n",
       "<table border=\"1\" class=\"dataframe\">\n",
       "  <thead>\n",
       "    <tr style=\"text-align: right;\">\n",
       "      <th></th>\n",
       "      <th>Number of Publishing</th>\n",
       "      <th>Number of Bumps</th>\n",
       "      <th>Bumps/Publishing</th>\n",
       "    </tr>\n",
       "    <tr>\n",
       "      <th>Robot</th>\n",
       "      <th></th>\n",
       "      <th></th>\n",
       "      <th></th>\n",
       "    </tr>\n",
       "  </thead>\n",
       "  <tbody>\n",
       "    <tr>\n",
       "      <th>151.106.35.202 U37</th>\n",
       "      <td>4856</td>\n",
       "      <td>1692</td>\n",
       "      <td>0.348435</td>\n",
       "    </tr>\n",
       "    <tr>\n",
       "      <th>151.106.35.202 U38</th>\n",
       "      <td>4056</td>\n",
       "      <td>1069</td>\n",
       "      <td>0.263560</td>\n",
       "    </tr>\n",
       "    <tr>\n",
       "      <th>151.106.35.202 U40</th>\n",
       "      <td>4637</td>\n",
       "      <td>2060</td>\n",
       "      <td>0.444253</td>\n",
       "    </tr>\n",
       "    <tr>\n",
       "      <th>151.106.35.221 U37</th>\n",
       "      <td>4958</td>\n",
       "      <td>1690</td>\n",
       "      <td>0.340863</td>\n",
       "    </tr>\n",
       "    <tr>\n",
       "      <th>151.106.35.221 U38</th>\n",
       "      <td>5304</td>\n",
       "      <td>1815</td>\n",
       "      <td>0.342195</td>\n",
       "    </tr>\n",
       "    <tr>\n",
       "      <th>151.106.35.221 U40</th>\n",
       "      <td>4720</td>\n",
       "      <td>1810</td>\n",
       "      <td>0.383475</td>\n",
       "    </tr>\n",
       "    <tr>\n",
       "      <th>151.106.41.12</th>\n",
       "      <td>5318</td>\n",
       "      <td>1750</td>\n",
       "      <td>0.329071</td>\n",
       "    </tr>\n",
       "    <tr>\n",
       "      <th>151.106.41.12 b6</th>\n",
       "      <td>1776</td>\n",
       "      <td>738</td>\n",
       "      <td>0.415541</td>\n",
       "    </tr>\n",
       "    <tr>\n",
       "      <th>151.106.41.4 u10r5</th>\n",
       "      <td>2615</td>\n",
       "      <td>951</td>\n",
       "      <td>0.363671</td>\n",
       "    </tr>\n",
       "    <tr>\n",
       "      <th>151.106.42.128Martin-R15</th>\n",
       "      <td>5556</td>\n",
       "      <td>3986</td>\n",
       "      <td>0.717423</td>\n",
       "    </tr>\n",
       "    <tr>\n",
       "      <th>151.106.42.169</th>\n",
       "      <td>2664</td>\n",
       "      <td>634</td>\n",
       "      <td>0.237988</td>\n",
       "    </tr>\n",
       "    <tr>\n",
       "      <th>151.106.42.169 g2</th>\n",
       "      <td>2404</td>\n",
       "      <td>628</td>\n",
       "      <td>0.261231</td>\n",
       "    </tr>\n",
       "    <tr>\n",
       "      <th>151.106.42.23 U36</th>\n",
       "      <td>3691</td>\n",
       "      <td>1237</td>\n",
       "      <td>0.335140</td>\n",
       "    </tr>\n",
       "    <tr>\n",
       "      <th>151.106.42.23 U38</th>\n",
       "      <td>3025</td>\n",
       "      <td>784</td>\n",
       "      <td>0.259174</td>\n",
       "    </tr>\n",
       "    <tr>\n",
       "      <th>151.106.42.23 U39</th>\n",
       "      <td>3604</td>\n",
       "      <td>1242</td>\n",
       "      <td>0.344617</td>\n",
       "    </tr>\n",
       "    <tr>\n",
       "      <th>155 U31</th>\n",
       "      <td>5140</td>\n",
       "      <td>2187</td>\n",
       "      <td>0.425486</td>\n",
       "    </tr>\n",
       "  </tbody>\n",
       "</table>\n",
       "</div>"
      ],
      "text/plain": [
       "                          Number of Publishing  Number of Bumps  \\\n",
       "Robot                                                             \n",
       "151.106.35.202 U37                        4856             1692   \n",
       "151.106.35.202 U38                        4056             1069   \n",
       "151.106.35.202 U40                        4637             2060   \n",
       "151.106.35.221 U37                        4958             1690   \n",
       "151.106.35.221 U38                        5304             1815   \n",
       "151.106.35.221 U40                        4720             1810   \n",
       "151.106.41.12                             5318             1750   \n",
       "151.106.41.12 b6                          1776              738   \n",
       "151.106.41.4 u10r5                        2615              951   \n",
       "151.106.42.128Martin-R15                  5556             3986   \n",
       "151.106.42.169                            2664              634   \n",
       "151.106.42.169 g2                         2404              628   \n",
       "151.106.42.23 U36                         3691             1237   \n",
       "151.106.42.23 U38                         3025              784   \n",
       "151.106.42.23 U39                         3604             1242   \n",
       "155 U31                                   5140             2187   \n",
       "\n",
       "                          Bumps/Publishing  \n",
       "Robot                                       \n",
       "151.106.35.202 U37                0.348435  \n",
       "151.106.35.202 U38                0.263560  \n",
       "151.106.35.202 U40                0.444253  \n",
       "151.106.35.221 U37                0.340863  \n",
       "151.106.35.221 U38                0.342195  \n",
       "151.106.35.221 U40                0.383475  \n",
       "151.106.41.12                     0.329071  \n",
       "151.106.41.12 b6                  0.415541  \n",
       "151.106.41.4 u10r5                0.363671  \n",
       "151.106.42.128Martin-R15          0.717423  \n",
       "151.106.42.169                    0.237988  \n",
       "151.106.42.169 g2                 0.261231  \n",
       "151.106.42.23 U36                 0.335140  \n",
       "151.106.42.23 U38                 0.259174  \n",
       "151.106.42.23 U39                 0.344617  \n",
       "155 U31                           0.425486  "
      ]
     },
     "execution_count": 48,
     "metadata": {},
     "output_type": "execute_result"
    }
   ],
   "source": [
    "account_publishing_bump = account_tools.publishing_bump_concat_by_robot()\n",
    "account_publishing_bump"
   ]
  },
  {
   "cell_type": "code",
   "execution_count": 49,
   "metadata": {},
   "outputs": [
    {
     "data": {
      "text/html": [
       "<div>\n",
       "<style scoped>\n",
       "    .dataframe tbody tr th:only-of-type {\n",
       "        vertical-align: middle;\n",
       "    }\n",
       "\n",
       "    .dataframe tbody tr th {\n",
       "        vertical-align: top;\n",
       "    }\n",
       "\n",
       "    .dataframe thead th {\n",
       "        text-align: right;\n",
       "    }\n",
       "</style>\n",
       "<table border=\"1\" class=\"dataframe\">\n",
       "  <thead>\n",
       "    <tr style=\"text-align: right;\">\n",
       "      <th></th>\n",
       "      <th>Number of Publishing</th>\n",
       "      <th>Number of Bumps</th>\n",
       "      <th>Bumps/Publishing</th>\n",
       "    </tr>\n",
       "  </thead>\n",
       "  <tbody>\n",
       "    <tr>\n",
       "      <th>count</th>\n",
       "      <td>16.000000</td>\n",
       "      <td>16.000000</td>\n",
       "      <td>16.000000</td>\n",
       "    </tr>\n",
       "    <tr>\n",
       "      <th>mean</th>\n",
       "      <td>4020.250000</td>\n",
       "      <td>1517.062500</td>\n",
       "      <td>0.363258</td>\n",
       "    </tr>\n",
       "    <tr>\n",
       "      <th>std</th>\n",
       "      <td>1214.604325</td>\n",
       "      <td>837.394011</td>\n",
       "      <td>0.112355</td>\n",
       "    </tr>\n",
       "    <tr>\n",
       "      <th>min</th>\n",
       "      <td>1776.000000</td>\n",
       "      <td>628.000000</td>\n",
       "      <td>0.237988</td>\n",
       "    </tr>\n",
       "    <tr>\n",
       "      <th>25%</th>\n",
       "      <td>2934.750000</td>\n",
       "      <td>909.250000</td>\n",
       "      <td>0.312693</td>\n",
       "    </tr>\n",
       "    <tr>\n",
       "      <th>50%</th>\n",
       "      <td>4346.500000</td>\n",
       "      <td>1466.000000</td>\n",
       "      <td>0.343406</td>\n",
       "    </tr>\n",
       "    <tr>\n",
       "      <th>75%</th>\n",
       "      <td>5003.500000</td>\n",
       "      <td>1811.250000</td>\n",
       "      <td>0.391491</td>\n",
       "    </tr>\n",
       "    <tr>\n",
       "      <th>max</th>\n",
       "      <td>5556.000000</td>\n",
       "      <td>3986.000000</td>\n",
       "      <td>0.717423</td>\n",
       "    </tr>\n",
       "  </tbody>\n",
       "</table>\n",
       "</div>"
      ],
      "text/plain": [
       "       Number of Publishing  Number of Bumps  Bumps/Publishing\n",
       "count             16.000000        16.000000         16.000000\n",
       "mean            4020.250000      1517.062500          0.363258\n",
       "std             1214.604325       837.394011          0.112355\n",
       "min             1776.000000       628.000000          0.237988\n",
       "25%             2934.750000       909.250000          0.312693\n",
       "50%             4346.500000      1466.000000          0.343406\n",
       "75%             5003.500000      1811.250000          0.391491\n",
       "max             5556.000000      3986.000000          0.717423"
      ]
     },
     "execution_count": 49,
     "metadata": {},
     "output_type": "execute_result"
    }
   ],
   "source": [
    "account_publishing_bump.describe()"
   ]
  },
  {
   "cell_type": "code",
   "execution_count": 50,
   "metadata": {},
   "outputs": [
    {
     "data": {
      "image/png": "[encoded data removed]",
      "text/plain": [
       "<Figure size 864x432 with 1 Axes>"
      ]
     },
     "metadata": {
      "needs_background": "light"
     },
     "output_type": "display_data"
    }
   ],
   "source": [
    "account_publishing_bump['Bumps/Publishing'].plot(kind='bar', figsize=(12, 6))\n",
    "plt.show()"
   ]
  },
  {
   "cell_type": "code",
   "execution_count": 51,
   "metadata": {},
   "outputs": [
    {
     "data": {
      "image/png": "[encoded data removed]",
      "text/plain": [
       "<Figure size 864x432 with 1 Axes>"
      ]
     },
     "metadata": {
      "needs_background": "light"
     },
     "output_type": "display_data"
    }
   ],
   "source": [
    "account_group_joiner_bump['Bumps/Groups'].plot(kind='bar', figsize=(12, 6))\n",
    "plt.show()"
   ]
  },
  {
   "cell_type": "code",
   "execution_count": 52,
   "metadata": {},
   "outputs": [
    {
     "data": {
      "image/png": "[encoded data removed]",
      "text/plain": [
       "<Figure size 864x432 with 1 Axes>"
      ]
     },
     "metadata": {
      "needs_background": "light"
     },
     "output_type": "display_data"
    }
   ],
   "source": [
    "account_group_joiner_publishing['Destinations/Groups'].plot(kind='bar', figsize=(12, 6))\n",
    "plt.show()"
   ]
  },
  {
   "cell_type": "code",
   "execution_count": 53,
   "metadata": {},
   "outputs": [
    {
     "data": {
      "image/png": "[encoded data removed]",
      "text/plain": [
       "<Figure size 864x432 with 1 Axes>"
      ]
     },
     "metadata": {
      "needs_background": "light"
     },
     "output_type": "display_data"
    }
   ],
   "source": [
    "page_group_joiner_publishing['Destinations/Groups'].plot(kind='bar', figsize=(12, 6))\n",
    "plt.show()"
   ]
  },
  {
   "cell_type": "code",
   "execution_count": 54,
   "metadata": {},
   "outputs": [
    {
     "data": {
      "image/png": "[encoded data removed]",
      "text/plain": [
       "<Figure size 864x432 with 1 Axes>"
      ]
     },
     "metadata": {
      "needs_background": "light"
     },
     "output_type": "display_data"
    }
   ],
   "source": [
    "account_publishing_bump['Bumps/Publishing'].plot(kind='bar', figsize=(12, 6))\n",
    "plt.show()"
   ]
  },
  {
   "cell_type": "code",
   "execution_count": 55,
   "metadata": {},
   "outputs": [
    {
     "data": {
      "text/plain": [
       "Robot\n",
       "151.106.35.202 U37          0.02\n",
       "151.106.35.202 U38          0.05\n",
       "151.106.35.202 U40          0.03\n",
       "151.106.35.221 U37          0.01\n",
       "151.106.35.221 U38          0.01\n",
       "151.106.35.221 U40          0.01\n",
       "151.106.41.12               0.00\n",
       "151.106.41.12 b6            0.02\n",
       "151.106.41.4 u10r5          0.04\n",
       "151.106.42.128Martin-R15    0.04\n",
       "151.106.42.169              0.02\n",
       "151.106.42.169 g2           0.15\n",
       "151.106.42.23 U36           0.02\n",
       "151.106.42.23 U38           0.01\n",
       "151.106.42.23 U39           0.01\n",
       "155 U31                     0.02\n",
       "Name: Error Rate, dtype: float64"
      ]
     },
     "execution_count": 55,
     "metadata": {},
     "output_type": "execute_result"
    }
   ],
   "source": [
    "account_group_joiner.error_rate_by_robot()"
   ]
  },
  {
   "cell_type": "code",
   "execution_count": 57,
   "metadata": {},
   "outputs": [
    {
     "data": {
      "text/plain": [
       "Robot                   Code   \n",
       "151.106.35.202 U43      code0      0.002114\n",
       "                        code101    0.004228\n",
       "                        code103    0.012685\n",
       "                        code121    0.002114\n",
       "                        code168    0.191332\n",
       "                        code3      0.045455\n",
       "                        code55     0.274841\n",
       "151.106.35.202 U44      code0      0.001847\n",
       "                        code103    0.004926\n",
       "                        code121    0.000616\n",
       "                        code168    0.060961\n",
       "                        code55     0.440271\n",
       "                        code81     0.007389\n",
       "151.106.35.221 U43      code0      0.001794\n",
       "                        code101    0.004785\n",
       "                        code103    0.010167\n",
       "                        code121    0.002392\n",
       "                        code168    0.136364\n",
       "                        code3      0.010167\n",
       "                        code55     0.290670\n",
       "                        code81     0.016746\n",
       "151.106.35.221 U44      code0      0.006162\n",
       "                        code101    0.002241\n",
       "                        code103    0.013445\n",
       "                        code168    0.064426\n",
       "                        code3      0.001120\n",
       "                        code55     0.300840\n",
       "                        code81     0.072269\n",
       "151.106.42.145 GEN R49  code102    0.000654\n",
       "                        code103    0.001309\n",
       "                        code121    0.006545\n",
       "                        code168    0.053010\n",
       "                        code3      0.003927\n",
       "                        code55     0.514398\n",
       "151.106.42.148 zhuyeA1  code168    0.406082\n",
       "                        code25     0.001789\n",
       "                        code55     0.173524\n",
       "                        code81     0.019678\n",
       "18 U45-10               code0      0.007937\n",
       "                        code101    0.003968\n",
       "                        code168    0.301587\n",
       "                        code3      0.007937\n",
       "                        code55     0.194444\n",
       "b8 151.106.41.12        code0      0.012365\n",
       "                        code121    0.003091\n",
       "                        code168    0.047913\n",
       "                        code55     0.519320\n",
       "Name: Code Rate to Total, dtype: float64"
      ]
     },
     "execution_count": 57,
     "metadata": {},
     "output_type": "execute_result"
    }
   ],
   "source": [
    "publishing = page_publishing.error_distribution_to_total_by_robot()\n",
    "publishing"
   ]
  },
  {
   "cell_type": "code",
   "execution_count": 58,
   "metadata": {},
   "outputs": [
    {
     "data": {
      "text/plain": [
       "<AxesSubplot:xlabel='Code'>"
      ]
     },
     "execution_count": 58,
     "metadata": {},
     "output_type": "execute_result"
    },
    {
     "data": {
      "image/png": "[encoded data removed]",
      "text/plain": [
       "<Figure size 1152x576 with 1 Axes>"
      ]
     },
     "metadata": {
      "needs_background": "light"
     },
     "output_type": "display_data"
    }
   ],
   "source": [
    "publishing.unstack().fillna(0).T.plot(kind='bar', figsize=(16, 8))"
   ]
  },
  {
   "cell_type": "code",
   "execution_count": null,
   "metadata": {},
   "outputs": [],
   "source": [
    "Publishing(path).error_rate_by_robot()"
   ]
  },
  {
   "cell_type": "code",
   "execution_count": null,
   "metadata": {
    "scrolled": true
   },
   "outputs": [],
   "source": [
    "publishing.error_distribution_to_total_by_robot().unstack().fillna(0)"
   ]
  },
  {
   "cell_type": "code",
   "execution_count": null,
   "metadata": {},
   "outputs": [],
   "source": [
    "publishing.count_error_code_by_account()"
   ]
  },
  {
   "cell_type": "code",
   "execution_count": null,
   "metadata": {},
   "outputs": [],
   "source": [
    "publishing.count_total_by_account()"
   ]
  },
  {
   "cell_type": "code",
   "execution_count": null,
   "metadata": {},
   "outputs": [],
   "source": [
    "publishing.count_total_by_robot()"
   ]
  },
  {
   "cell_type": "code",
   "execution_count": null,
   "metadata": {},
   "outputs": [],
   "source": [
    "publishing.count_error_code_by_robot()"
   ]
  },
  {
   "cell_type": "code",
   "execution_count": null,
   "metadata": {},
   "outputs": [],
   "source": [
    "publishing.error_distribution_to_total_by_robot()"
   ]
  },
  {
   "cell_type": "code",
   "execution_count": null,
   "metadata": {},
   "outputs": [],
   "source": [
    "publishing.count_error_by_account()"
   ]
  },
  {
   "cell_type": "code",
   "execution_count": null,
   "metadata": {},
   "outputs": [],
   "source": [
    "publishing.count_error_by_robot()"
   ]
  },
  {
   "cell_type": "code",
   "execution_count": null,
   "metadata": {},
   "outputs": [],
   "source": [
    "publishing.count_finished_by_account()"
   ]
  },
  {
   "cell_type": "code",
   "execution_count": null,
   "metadata": {},
   "outputs": [],
   "source": [
    "publishing.count_error_code_by_account()"
   ]
  },
  {
   "cell_type": "code",
   "execution_count": null,
   "metadata": {},
   "outputs": [],
   "source": [
    "publishing.count_error_code_by_robot()"
   ]
  },
  {
   "cell_type": "code",
   "execution_count": null,
   "metadata": {},
   "outputs": [],
   "source": [
    "publishing.error_distribution_to_total_by_robot()"
   ]
  },
  {
   "cell_type": "code",
   "execution_count": null,
   "metadata": {},
   "outputs": [],
   "source": [
    "publishing.df_error()"
   ]
  },
  {
   "cell_type": "code",
   "execution_count": null,
   "metadata": {},
   "outputs": [],
   "source": [
    "group_joiner = GroupJoiner('.')"
   ]
  },
  {
   "cell_type": "code",
   "execution_count": null,
   "metadata": {},
   "outputs": [],
   "source": [
    "group_joiner.df_error()"
   ]
  },
  {
   "cell_type": "code",
   "execution_count": null,
   "metadata": {},
   "outputs": [],
   "source": [
    "group_joiner.df_finished()"
   ]
  },
  {
   "cell_type": "code",
   "execution_count": null,
   "metadata": {},
   "outputs": [],
   "source": [
    "group_joiner.df_total()"
   ]
  },
  {
   "cell_type": "code",
   "execution_count": null,
   "metadata": {},
   "outputs": [],
   "source": [
    "group_joiner.df_error().Code.unique()"
   ]
  },
  {
   "cell_type": "code",
   "execution_count": null,
   "metadata": {},
   "outputs": [],
   "source": [
    "group_joiner.filter_error_code('code168')"
   ]
  },
  {
   "cell_type": "code",
   "execution_count": null,
   "metadata": {},
   "outputs": [],
   "source": []
  },
  {
   "cell_type": "code",
   "execution_count": null,
   "metadata": {},
   "outputs": [],
   "source": [
    "logs = LogsProcess('.')\n",
    "df = logs.logs_concat()\n",
    "df"
   ]
  },
  {
   "cell_type": "code",
   "execution_count": null,
   "metadata": {},
   "outputs": [],
   "source": [
    "logs.files"
   ]
  },
  {
   "cell_type": "code",
   "execution_count": null,
   "metadata": {},
   "outputs": [],
   "source": [
    "group_joiner = GroupJoiner(df)"
   ]
  },
  {
   "cell_type": "code",
   "execution_count": null,
   "metadata": {},
   "outputs": [],
   "source": [
    "gj_total = group_joiner.df_total()\n",
    "gj_total"
   ]
  },
  {
   "cell_type": "code",
   "execution_count": null,
   "metadata": {},
   "outputs": [],
   "source": [
    "publishing = Publishing(df)\n",
    "publishing_error = publishing.df_error()\n",
    "publishing_total = publishing.df_total()"
   ]
  },
  {
   "cell_type": "code",
   "execution_count": null,
   "metadata": {},
   "outputs": [],
   "source": [
    "publishing_concat = pd.concat([publishing_error, publishing_total], ignore_index=True)"
   ]
  },
  {
   "cell_type": "code",
   "execution_count": null,
   "metadata": {},
   "outputs": [],
   "source": [
    "publishing_concat"
   ]
  },
  {
   "cell_type": "code",
   "execution_count": null,
   "metadata": {},
   "outputs": [],
   "source": [
    "publishing_before_error = publishing_concat.groupby('Account').apply(lambda x: count_before_error(x, 'code81'))\n",
    "publishing_before_error"
   ]
  },
  {
   "cell_type": "code",
   "execution_count": null,
   "metadata": {},
   "outputs": [],
   "source": [
    "gj_total.groupby('Account').apply(lambda x: count_before_error(x, 'code0')).sum()"
   ]
  },
  {
   "cell_type": "code",
   "execution_count": null,
   "metadata": {},
   "outputs": [],
   "source": [
    "df_error81 = Tools(gj_total).filter_error_code('code168')\n",
    "df_error81"
   ]
  },
  {
   "cell_type": "code",
   "execution_count": null,
   "metadata": {},
   "outputs": [],
   "source": [
    "publishing = Publishing(df)"
   ]
  },
  {
   "cell_type": "code",
   "execution_count": null,
   "metadata": {},
   "outputs": [],
   "source": [
    "publishing_error = publishing.df_error()\n",
    "publishing_error"
   ]
  },
  {
   "cell_type": "code",
   "execution_count": null,
   "metadata": {},
   "outputs": [],
   "source": [
    "publishing_code81 = Tools(publishing_error).filter_error_code('code81')\n",
    "publishing_code81"
   ]
  },
  {
   "cell_type": "code",
   "execution_count": null,
   "metadata": {},
   "outputs": [],
   "source": [
    "group_joiner_publishing = Tools(df).group_joiner_publishing_concat_by_robot()\n",
    "group_joiner_publishing"
   ]
  },
  {
   "cell_type": "code",
   "execution_count": null,
   "metadata": {},
   "outputs": [],
   "source": [
    "Publishing(df).error_distribution_by_robot()"
   ]
  },
  {
   "cell_type": "code",
   "execution_count": null,
   "metadata": {},
   "outputs": [],
   "source": [
    "group_joiner_publishing.describe()"
   ]
  },
  {
   "cell_type": "code",
   "execution_count": null,
   "metadata": {},
   "outputs": [],
   "source": [
    "group_joiner_publishing.plot(kind='bar', subplots=True, use_index=False, figsize=(16, 16))\n",
    "plt.xticks([])\n",
    "plt.show()"
   ]
  },
  {
   "cell_type": "code",
   "execution_count": null,
   "metadata": {},
   "outputs": [],
   "source": [
    "publishing.error_distribution_by_robot().unstack().T.plot(kind='bar', figsize=(16, 8), rot=True)\n",
    "plt.show()"
   ]
  },
  {
   "cell_type": "code",
   "execution_count": null,
   "metadata": {},
   "outputs": [],
   "source": [
    "publishing.error_distribution_to_total_by_robot().unstack().T.plot(kind='bar', figsize=(16, 8))\n",
    "plt.show()"
   ]
  },
  {
   "cell_type": "code",
   "execution_count": null,
   "metadata": {},
   "outputs": [],
   "source": [
    "count_grouped = group_joiner.count_grouped_by_robot()\n",
    "count_grouped"
   ]
  },
  {
   "cell_type": "code",
   "execution_count": null,
   "metadata": {},
   "outputs": [],
   "source": [
    "count_grouped.plot(kind='bar', subplots=True, figsize=(16, 16))\n",
    "plt.show()"
   ]
  },
  {
   "cell_type": "code",
   "execution_count": null,
   "metadata": {},
   "outputs": [],
   "source": [
    "publishing.error_rate_by_robot().plot(kind='bar')"
   ]
  },
  {
   "cell_type": "code",
   "execution_count": null,
   "metadata": {},
   "outputs": [],
   "source": [
    "grouped.plot(kind='area', subplots=True, use_index=False, figsize=(16, 16))\n",
    "plt.xticks([])\n",
    "plt.show()"
   ]
  },
  {
   "cell_type": "code",
   "execution_count": null,
   "metadata": {},
   "outputs": [],
   "source": [
    "publishing.filter_error_code('code81')"
   ]
  },
  {
   "cell_type": "code",
   "execution_count": null,
   "metadata": {},
   "outputs": [],
   "source": [
    "publishing_error = publishing.df_error()"
   ]
  },
  {
   "cell_type": "code",
   "execution_count": null,
   "metadata": {},
   "outputs": [],
   "source": [
    "filter_error81 = Tools(publishing_error).filter_error_code('code81')\n",
    "filter_error81"
   ]
  },
  {
   "cell_type": "code",
   "execution_count": null,
   "metadata": {},
   "outputs": [],
   "source": [
    "data_list = [value for value in data_dict.values()]\n",
    "\n",
    "data = pd.concat(data_list, ignore_index=True)\n",
    "data.set_index('Date', inplace=True)\n",
    "\n",
    "def account_sort(df):\n",
    "    return df.sort_index()\n",
    "\n",
    "filtered_data = data.groupby('Account').apply(account_sort)\n",
    "filtered_code81 = data[data['Status'].str.contains('code 81')]\n",
    "\n",
    "grouped_filtered_code81 = filtered_code81.groupby('Account').count()\n",
    "grouped_filtered_code81.columns = ['Code81 Amount']\n",
    "grouped_filtered_code81"
   ]
  },
  {
   "cell_type": "code",
   "execution_count": null,
   "metadata": {},
   "outputs": [],
   "source": [
    "grouped = pd.concat([grouped_data, grouped_filtered_code81], axis=1).dropna()\n",
    "grouped.drop('Date', axis=1, inplace=True)\n",
    "grouped = grouped[grouped['Finished Amount'] < 100]\n",
    "grouped"
   ]
  },
  {
   "cell_type": "code",
   "execution_count": null,
   "metadata": {},
   "outputs": [],
   "source": [
    "grouped['Finished Amount before Code81'] = grouped['Finished Amount'] - grouped['Code81 Amount']\n",
    "grouped"
   ]
  },
  {
   "cell_type": "code",
   "execution_count": null,
   "metadata": {},
   "outputs": [],
   "source": [
    "grouped.describe()"
   ]
  },
  {
   "cell_type": "code",
   "execution_count": null,
   "metadata": {},
   "outputs": [],
   "source": [
    "grouped['Finished Amount before Code81'].plot(kind='line', figsize=(16, 8))"
   ]
  },
  {
   "cell_type": "code",
   "execution_count": null,
   "metadata": {},
   "outputs": [],
   "source": [
    "code81_amount_total = grouped_filtered_code81.sum()\n",
    "code81_amount_total"
   ]
  },
  {
   "cell_type": "code",
   "execution_count": null,
   "metadata": {},
   "outputs": [],
   "source": [
    "count_data = pd.DataFrame([total_count_dict, error_count_dict, error_rate_dict],\n",
    "                                index=['number of post', 'number of error', 'error rate']).T\n",
    "count_data"
   ]
  },
  {
   "cell_type": "code",
   "execution_count": null,
   "metadata": {},
   "outputs": [],
   "source": [
    "count_data.describe()"
   ]
  },
  {
   "cell_type": "code",
   "execution_count": null,
   "metadata": {},
   "outputs": [],
   "source": [
    "count_data.iloc[:,0:2].sum()"
   ]
  },
  {
   "cell_type": "code",
   "execution_count": null,
   "metadata": {},
   "outputs": [],
   "source": [
    "error_data1.name = 'error rate'\n",
    "error_data1.rename('error', inplace=True)\n",
    "error_data1"
   ]
  },
  {
   "cell_type": "code",
   "execution_count": null,
   "metadata": {},
   "outputs": [],
   "source": [
    "pd.DataFrame(error_data1).T"
   ]
  },
  {
   "cell_type": "code",
   "execution_count": null,
   "metadata": {},
   "outputs": [],
   "source": [
    "error_rate_data"
   ]
  },
  {
   "cell_type": "code",
   "execution_count": null,
   "metadata": {},
   "outputs": [],
   "source": [
    "error_rate_data = pd.DataFrame(error_rate_dict, index=['error rate'])\n",
    "error_rate_plot = error_rate_data.plot(kind='bar', figsize=(16, 8), title='error rate', rot=True)"
   ]
  },
  {
   "cell_type": "code",
   "execution_count": null,
   "metadata": {},
   "outputs": [],
   "source": [
    "logs.publishing_error_distribution_by_account().unstack().fillna(0).T.plot(kind='bar', figsize=(16, 8))"
   ]
  },
  {
   "cell_type": "code",
   "execution_count": null,
   "metadata": {},
   "outputs": [],
   "source": [
    "logs.publishing_error_distribution_by_robot().unstack().fillna(0).T.plot(kind='bar', figsize=(16, 8))"
   ]
  },
  {
   "cell_type": "code",
   "execution_count": null,
   "metadata": {
    "scrolled": false
   },
   "outputs": [],
   "source": [
    "error_distribution = pd.DataFrame(error_distribution_dict).fillna(0)\n",
    "error_distribution.T"
   ]
  },
  {
   "cell_type": "code",
   "execution_count": null,
   "metadata": {},
   "outputs": [],
   "source": [
    "error_distribution_plot = error_distribution.plot(kind='bar', figsize=(16, 8), title='distribution of error code', rot=True)"
   ]
  },
  {
   "cell_type": "code",
   "execution_count": null,
   "metadata": {},
   "outputs": [],
   "source": [
    "error_distribution_to_total = pd.DataFrame(error_distribution_to_total_dict).fillna(0)\n",
    "error_distribution_to_total.T"
   ]
  },
  {
   "cell_type": "code",
   "execution_count": null,
   "metadata": {},
   "outputs": [],
   "source": [
    "error_distribution_to_total_plot = error_distribution_to_total.plot(kind='bar', figsize=(16, 8), rot=True,\n",
    "                                                                    title='distribution of error code to total')"
   ]
  },
  {
   "cell_type": "code",
   "execution_count": null,
   "metadata": {},
   "outputs": [],
   "source": []
  },
  {
   "cell_type": "code",
   "execution_count": null,
   "metadata": {},
   "outputs": [],
   "source": []
  },
  {
   "cell_type": "code",
   "execution_count": null,
   "metadata": {},
   "outputs": [],
   "source": []
  }
 ],
 "metadata": {
  "kernelspec": {
   "display_name": "Python 3",
   "language": "python",
   "name": "python3"
  },
  "language_info": {
   "codemirror_mode": {
    "name": "ipython",
    "version": 3
   },
   "file_extension": ".py",
   "mimetype": "text/x-python",
   "name": "python",
   "nbconvert_exporter": "python",
   "pygments_lexer": "ipython3",
   "version": "3.8.5"
  }
 },
 "nbformat": 4,
 "nbformat_minor": 4
}
